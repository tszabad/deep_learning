{
  "nbformat": 4,
  "nbformat_minor": 0,
  "metadata": {
    "kernelspec": {
      "display_name": "Python 3",
      "language": "python",
      "name": "python3"
    },
    "language_info": {
      "codemirror_mode": {
        "name": "ipython",
        "version": 3
      },
      "file_extension": ".py",
      "mimetype": "text/x-python",
      "name": "python",
      "nbconvert_exporter": "python",
      "pygments_lexer": "ipython3",
      "version": "3.6.6"
    },
    "toc": {
      "base_numbering": 1,
      "nav_menu": {},
      "number_sections": true,
      "sideBar": true,
      "skip_h1_title": false,
      "title_cell": "Table of Contents",
      "title_sidebar": "Contents",
      "toc_cell": false,
      "toc_position": {},
      "toc_section_display": true,
      "toc_window_display": false
    },
    "varInspector": {
      "cols": {
        "lenName": 16,
        "lenType": 16,
        "lenVar": 40
      },
      "kernels_config": {
        "python": {
          "delete_cmd_postfix": "",
          "delete_cmd_prefix": "del ",
          "library": "var_list.py",
          "varRefreshCmd": "print(var_dic_list())"
        },
        "r": {
          "delete_cmd_postfix": ") ",
          "delete_cmd_prefix": "rm(",
          "library": "var_list.r",
          "varRefreshCmd": "cat(var_dic_list()) "
        }
      },
      "types_to_exclude": [
        "module",
        "function",
        "builtin_function_or_method",
        "instance",
        "_Feature"
      ],
      "window_display": false
    },
    "colab": {
      "name": "Copy of Day02-Task_TF_101_handout.ipynb",
      "provenance": [],
      "collapsed_sections": [],
      "include_colab_link": true
    }
  },
  "cells": [
    {
      "cell_type": "markdown",
      "metadata": {
        "id": "view-in-github",
        "colab_type": "text"
      },
      "source": [
        "<a href=\"https://colab.research.google.com/github/tszabad/deep_learning/blob/main/Copy_of_Day02_Task_TF_101_handout.ipynb\" target=\"_parent\"><img src=\"https://colab.research.google.com/assets/colab-badge.svg\" alt=\"Open In Colab\"/></a>"
      ]
    },
    {
      "cell_type": "markdown",
      "metadata": {
        "id": "k09rUkJl8Tyc"
      },
      "source": [
        "# TF introductory task"
      ]
    },
    {
      "cell_type": "code",
      "metadata": {
        "id": "S2IK3MNJ8Tyl"
      },
      "source": [
        "#Please import tensorflow under the customary name \n",
        "import tensorflow as tf\n",
        "#disable_eager_execution()\n",
        "import tensorflow.python.util.deprecation as deprecation\n",
        "deprecation._PRINT_DEPRECATION_WARNINGS = False\n",
        "tf.compat.v1.disable_eager_execution()"
      ],
      "execution_count": null,
      "outputs": []
    },
    {
      "cell_type": "code",
      "metadata": {
        "id": "y5-JcV3n8Tyr"
      },
      "source": [
        "# Please define two input Tensorflow placeholders x and y for storing the \"input\" data for this toy example!\n",
        "# please ensure that they afe having the Tensorflow float32 type\n",
        "# here we enforce no shape for the placeholders, but it can be useful later on.\n",
        "\n",
        "# Inputs\n",
        "x = tf.compat.v1.placeholder(tf.float32)\n",
        "y = tf.compat.v1.placeholder(tf.float32)\n"
      ],
      "execution_count": null,
      "outputs": []
    },
    {
      "cell_type": "code",
      "metadata": {
        "id": "8NjpO5q18Tyu"
      },
      "source": [
        "\n",
        "# Please define two \"learnable parameters\" - that is Variables in tf jargon\n",
        "# for holding the values for W and b\n",
        "# Again float32 is the type, and please use default value [3.0,2.0,0.5] for W and 1.0 for b\n",
        "# please ensure, that W is a _one row_ matrix!\n",
        "# Naturally, in a real life case, we would use random initialization for W and b...\n",
        "# You don't have to use shape explicitly, just use the right shape of input value\n",
        "# Think of the numpy practice from Day4 please!\n",
        "# b is just a scalar (single float value), nothing more.\n",
        "W = tf.Variable([[3.0,2.0,0.5]], dtype=tf.float32)\n",
        "b = tf.Variable([1.0], dtype=tf.float32)\n"
      ],
      "execution_count": null,
      "outputs": []
    },
    {
      "cell_type": "code",
      "metadata": {
        "id": "M7_2awNh8Tyw"
      },
      "source": [
        "# We define the linear model here.\n",
        "# No task, just observe!\n",
        "linear_model = tf.reduce_sum(tf.matmul(x,tf.transpose(W))+b)\n",
        "# This could be alternatively written tf.reduce_sum(tf.matmul(x,W, transpose_b=True)+b)\n",
        "# Also caveat: for simplicity, we use xW.T+b approach, since more easy to visualize.\n",
        "# In real life scenarios, many times x gets transposed...\n",
        "\n",
        "# Here we calculate the squared loss of the \"\"\"model\"\"\"\n",
        "loss = tf.square(linear_model - y)\n"
      ],
      "execution_count": null,
      "outputs": []
    },
    {
      "cell_type": "code",
      "metadata": {
        "id": "kfiqfnDM8Tyx"
      },
      "source": [
        "# Please define the global variable initializer operation here!\n",
        "init = tf.compat.v1.global_variables_initializer()"
      ],
      "execution_count": null,
      "outputs": []
    },
    {
      "cell_type": "code",
      "metadata": {
        "id": "Om5_K0m98Tyy",
        "colab": {
          "base_uri": "https://localhost:8080/"
        },
        "outputId": "403ea8a7-a9fa-4781-f6ea-fa5d8c144759"
      },
      "source": [
        "# Please open a Session, named sess in the context manager below!\n",
        "with tf.compat.v1.Session() as sess:\n",
        "    \n",
        "    sess.run(init)\n",
        "    \n",
        "    \n",
        "    # Please use the sess object to run the initializer defined above!\n",
        "    ...\n",
        "    \n",
        "    # We do the rest for you...\n",
        "    returned_loss = sess.run(loss, {x: [[1.0, 2.0, 3.0]], y: [13,]})\n",
        "\n",
        "    \n",
        "    # This should be the place for modifying the weights and bias to reduce error,\n",
        "    # but we will learn about this later on, so nothing to do here.\n",
        "    # Meaning: now our model is not learning anything. But later it will.\n",
        "\n",
        "\n",
        "print(\"Returned loss:\",returned_loss[0])\n",
        "assert round(returned_loss[0].item(),2)==12.25\n",
        "# And yes, this is how a single numpy.float32's python float value can be acc"
      ],
      "execution_count": null,
      "outputs": [
        {
          "output_type": "stream",
          "text": [
            "Returned loss: 12.25\n"
          ],
          "name": "stdout"
        }
      ]
    }
  ]
}