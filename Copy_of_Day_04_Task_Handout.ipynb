{
  "nbformat": 4,
  "nbformat_minor": 0,
  "metadata": {
    "colab": {
      "name": "Copy of Day-04-Task-Handout.ipynb",
      "provenance": [],
      "collapsed_sections": [],
      "include_colab_link": true
    },
    "kernelspec": {
      "name": "python3",
      "display_name": "Python 3"
    },
    "language_info": {
      "name": "python"
    }
  },
  "cells": [
    {
      "cell_type": "markdown",
      "metadata": {
        "id": "view-in-github",
        "colab_type": "text"
      },
      "source": [
        "<a href=\"https://colab.research.google.com/github/tszabad/deep_learning/blob/main/Copy_of_Day_04_Task_Handout.ipynb\" target=\"_parent\"><img src=\"https://colab.research.google.com/assets/colab-badge.svg\" alt=\"Open In Colab\"/></a>"
      ]
    },
    {
      "cell_type": "markdown",
      "metadata": {
        "id": "sgPp--avm3GV"
      },
      "source": [
        "High dimensional data is more frequent than one might first think, e.g., even a low resolution  grey scale image from the famous [MNIST datase](https://en.wikipedia.org/wiki/MNIST_database):\n",
        "\n",
        "<a href=\"https://miro.medium.com/max/245/1*nlfLUgHUEj5vW7WVJpxY-g.png\"><img src=\"https://drive.google.com/uc?export=view&id=1-XrK7beC0beocLB_NufEmKVsBbCRko88\" width=250px></a>\n",
        "\n",
        "(Image source: [Image Classification in 10 Minutes with MNIST Dataset](https://towardsdatascience.com/image-classification-in-10-minutes-with-mnist-dataset-54c35b77a38d))\n",
        "\n",
        "has 784 dimensions, as it contains intensity information for each of its $28\\times 28 = 784$ pixels. Image processing is far from being the only area with high-dimensional data. For instance, the frequently used  \"bag of words\" representation of text documents in NLP uses a separate dimension for each word in the data set's vocabulary.\n"
      ]
    },
    {
      "cell_type": "markdown",
      "metadata": {
        "id": "AgoQMMiFnXKQ"
      },
      "source": [
        "In this **practical session**, we try to:\n",
        "\n",
        "* create a multi perceptron model,\n",
        "* create an **LR** scheduler manually,\n",
        "* find the maximum of **LR** with LRFinder function,\n",
        "* and use the OneCycle **LR** model to get the best results.\n"
      ]
    },
    {
      "cell_type": "markdown",
      "metadata": {
        "id": "-7mWWqL7pGwq"
      },
      "source": [
        "# Task1\n",
        "##Loading mnist hand written dataset"
      ]
    },
    {
      "cell_type": "markdown",
      "metadata": {
        "id": "peNyie3p8J18"
      },
      "source": [
        "We try to classificate the mnist handwritten dataset with multi-layer perceptron."
      ]
    },
    {
      "cell_type": "code",
      "metadata": {
        "id": "H91tXiEwyfsX"
      },
      "source": [
        "import tensorflow as tf\n",
        "import numpy as np\n",
        "\n",
        "import matplotlib.pyplot as plt"
      ],
      "execution_count": null,
      "outputs": []
    },
    {
      "cell_type": "code",
      "metadata": {
        "id": "7e_Veih1yZYI"
      },
      "source": [
        "#Load the dataset from keras API\n",
        "(x_train, y_train), (x_test, y_test) = tf.keras.datasets.mnist.load_data()"
      ],
      "execution_count": null,
      "outputs": []
    },
    {
      "cell_type": "code",
      "metadata": {
        "colab": {
          "base_uri": "https://localhost:8080/"
        },
        "id": "zoFOzwLzk6W0",
        "outputId": "953d57b9-7348-4fc5-a328-af52b247c5a0"
      },
      "source": [
        "x_train.shape"
      ],
      "execution_count": null,
      "outputs": [
        {
          "output_type": "execute_result",
          "data": {
            "text/plain": [
              "(60000, 28, 28)"
            ]
          },
          "metadata": {
            "tags": []
          },
          "execution_count": 177
        }
      ]
    },
    {
      "cell_type": "code",
      "metadata": {
        "colab": {
          "base_uri": "https://localhost:8080/"
        },
        "id": "_ryx799klPxF",
        "outputId": "18c21d9a-4b1a-49b6-aa36-25849b1742c8"
      },
      "source": [
        "x_test.shape"
      ],
      "execution_count": null,
      "outputs": [
        {
          "output_type": "execute_result",
          "data": {
            "text/plain": [
              "(10000, 28, 28)"
            ]
          },
          "metadata": {
            "tags": []
          },
          "execution_count": 178
        }
      ]
    },
    {
      "cell_type": "code",
      "metadata": {
        "id": "sGA_ACwVz2Yp"
      },
      "source": [
        "# Flatten the images\n",
        "# You need to reshape the dataset from 28x28 2D array to 784 1D array. So the image_vector size equal the desired number of shape.\n",
        "# Becuse the first layer of perceptron needs 1D array of nodes.\n",
        "image_vector_size = 784\n",
        "x_train = x_train.reshape(x_train.shape[0], image_vector_size) # with image_vector_size\n",
        "x_test = x_test.reshape(x_test.shape[0], image_vector_size) # with image_vector_size"
      ],
      "execution_count": null,
      "outputs": []
    },
    {
      "cell_type": "code",
      "metadata": {
        "colab": {
          "base_uri": "https://localhost:8080/"
        },
        "id": "-ALuXBr3lfyG",
        "outputId": "eabafe5f-7c5a-4934-ee12-f3f1ad0e3fab"
      },
      "source": [
        "x_train.shape"
      ],
      "execution_count": null,
      "outputs": [
        {
          "output_type": "execute_result",
          "data": {
            "text/plain": [
              "(60000, 784)"
            ]
          },
          "metadata": {
            "tags": []
          },
          "execution_count": 180
        }
      ]
    },
    {
      "cell_type": "code",
      "metadata": {
        "colab": {
          "base_uri": "https://localhost:8080/"
        },
        "id": "i8vh9D9znRmw",
        "outputId": "dde92044-5e99-4062-c7db-ad38968e0508"
      },
      "source": [
        "import pandas as pd\n",
        "\n",
        "pd.unique(y_train)"
      ],
      "execution_count": null,
      "outputs": [
        {
          "output_type": "execute_result",
          "data": {
            "text/plain": [
              "array([5, 0, 4, 1, 9, 2, 3, 6, 7, 8], dtype=uint8)"
            ]
          },
          "metadata": {
            "tags": []
          },
          "execution_count": 181
        }
      ]
    },
    {
      "cell_type": "markdown",
      "metadata": {
        "id": "pfKYFnlepQxs"
      },
      "source": [
        "#Task2\n",
        "##Modeling"
      ]
    },
    {
      "cell_type": "markdown",
      "metadata": {
        "id": "ZBzXUKiYfBuL"
      },
      "source": [
        "In this case, create the multiperceptron model, and set the initial hyperparameters, and we try to predict the handwritten numbers from 0 to 9."
      ]
    },
    {
      "cell_type": "code",
      "metadata": {
        "id": "3qohqmkXk21a"
      },
      "source": [
        "from tensorflow.keras.models import Sequential\n",
        "from tensorflow.keras.layers import Dense, Flatten, Dropout\n",
        "from tensorflow.keras import backend as K\n",
        "from tensorflow.keras.optimizers import SGD"
      ],
      "execution_count": null,
      "outputs": []
    },
    {
      "cell_type": "code",
      "metadata": {
        "id": "BItEdYs-cVN8"
      },
      "source": [
        "# Hyperparameters\n",
        "learning_rate = 0.1 # The learning rate\n",
        "momentum = 0.0 # Momentum\n",
        "#optimizer=SGD(learning_rate, momentum)\n",
        "optimizer = \"adam\"\n",
        "\n",
        "# create a model\n",
        "def create_model():\n",
        "      model = Sequential()\n",
        "      # Input layer\n",
        "      model.add(Dense(64, input_dim=784, activation=\"sigmoid\")) #add activation function, size of hidden layers, and input_shape\n",
        "      # Output layer\n",
        "      model.add(Dropout(0.1))\n",
        "      model.add(Dense(32, input_dim=784, activation=\"sigmoid\"))\n",
        "      model.add(Dropout(0.1))\n",
        "      model.add(Dense(10, activation=\"softmax\")) #add activation function, and output shape\n",
        "\n",
        "      # Compile a model\n",
        "      model.compile(loss='sparse_categorical_crossentropy' , optimizer=optimizer, metrics=['accuracy']) #use crossentropy loss function\n",
        "      return model\n",
        "model = create_model()\n",
        "#fit the modelmodel.summary()"
      ],
      "execution_count": null,
      "outputs": []
    },
    {
      "cell_type": "markdown",
      "metadata": {
        "id": "7EQwFBbisYYt"
      },
      "source": [
        ""
      ]
    },
    {
      "cell_type": "code",
      "metadata": {
        "id": "fVhzlB57lyjZ",
        "colab": {
          "base_uri": "https://localhost:8080/"
        },
        "outputId": "daee6b54-ad6f-4864-9e89-5919420c0e57"
      },
      "source": [
        "#Fitting the model\n",
        "#In this step we train our model with training dataset, and measure the loss, and accuracy on training and validation set too.\n",
        "\n",
        "batch_size = 128\n",
        "epoch = 20\n",
        "\n",
        "results = model.fit(\n",
        "    x_train, y_train,\n",
        "    epochs= epoch,\n",
        "    batch_size = batch_size,\n",
        "    validation_data = (x_test, y_test), #add the validation set\n",
        "    verbose = 1 # We need this, because Colab does not like if we print 1000 lines. So we disable keras status prints\n",
        ")"
      ],
      "execution_count": null,
      "outputs": [
        {
          "output_type": "stream",
          "text": [
            "Epoch 1/20\n",
            "469/469 [==============================] - 2s 4ms/step - loss: 1.1843 - accuracy: 0.7090 - val_loss: 0.5731 - val_accuracy: 0.8809\n",
            "Epoch 2/20\n",
            "469/469 [==============================] - 2s 4ms/step - loss: 0.5281 - accuracy: 0.8642 - val_loss: 0.3861 - val_accuracy: 0.9034\n",
            "Epoch 3/20\n",
            "469/469 [==============================] - 2s 4ms/step - loss: 0.4237 - accuracy: 0.8793 - val_loss: 0.3165 - val_accuracy: 0.9129\n",
            "Epoch 4/20\n",
            "469/469 [==============================] - 2s 4ms/step - loss: 0.3938 - accuracy: 0.8846 - val_loss: 0.3058 - val_accuracy: 0.9104\n",
            "Epoch 5/20\n",
            "469/469 [==============================] - 2s 4ms/step - loss: 0.3710 - accuracy: 0.8907 - val_loss: 0.2849 - val_accuracy: 0.9175\n",
            "Epoch 6/20\n",
            "469/469 [==============================] - 2s 4ms/step - loss: 0.3552 - accuracy: 0.8941 - val_loss: 0.2776 - val_accuracy: 0.9173\n",
            "Epoch 7/20\n",
            "469/469 [==============================] - 2s 4ms/step - loss: 0.3448 - accuracy: 0.8957 - val_loss: 0.2666 - val_accuracy: 0.9195\n",
            "Epoch 8/20\n",
            "469/469 [==============================] - 2s 4ms/step - loss: 0.3387 - accuracy: 0.8979 - val_loss: 0.2575 - val_accuracy: 0.9216\n",
            "Epoch 9/20\n",
            "469/469 [==============================] - 2s 4ms/step - loss: 0.3222 - accuracy: 0.9024 - val_loss: 0.2452 - val_accuracy: 0.9262\n",
            "Epoch 10/20\n",
            "469/469 [==============================] - 2s 4ms/step - loss: 0.3145 - accuracy: 0.9050 - val_loss: 0.2439 - val_accuracy: 0.9279\n",
            "Epoch 11/20\n",
            "469/469 [==============================] - 2s 4ms/step - loss: 0.3002 - accuracy: 0.9115 - val_loss: 0.2434 - val_accuracy: 0.9260\n",
            "Epoch 12/20\n",
            "469/469 [==============================] - 2s 5ms/step - loss: 0.3064 - accuracy: 0.9066 - val_loss: 0.2250 - val_accuracy: 0.9334\n",
            "Epoch 13/20\n",
            "469/469 [==============================] - 2s 4ms/step - loss: 0.2961 - accuracy: 0.9116 - val_loss: 0.2262 - val_accuracy: 0.9293\n",
            "Epoch 14/20\n",
            "469/469 [==============================] - 2s 4ms/step - loss: 0.2863 - accuracy: 0.9138 - val_loss: 0.2278 - val_accuracy: 0.9317\n",
            "Epoch 15/20\n",
            "469/469 [==============================] - 2s 4ms/step - loss: 0.2906 - accuracy: 0.9134 - val_loss: 0.2143 - val_accuracy: 0.9353\n",
            "Epoch 16/20\n",
            "469/469 [==============================] - 2s 4ms/step - loss: 0.2773 - accuracy: 0.9162 - val_loss: 0.2137 - val_accuracy: 0.9336\n",
            "Epoch 17/20\n",
            "469/469 [==============================] - 2s 4ms/step - loss: 0.2704 - accuracy: 0.9177 - val_loss: 0.2098 - val_accuracy: 0.9378\n",
            "Epoch 18/20\n",
            "469/469 [==============================] - 2s 4ms/step - loss: 0.2706 - accuracy: 0.9174 - val_loss: 0.2055 - val_accuracy: 0.9380\n",
            "Epoch 19/20\n",
            "469/469 [==============================] - 2s 4ms/step - loss: 0.2662 - accuracy: 0.9203 - val_loss: 0.2114 - val_accuracy: 0.9332\n",
            "Epoch 20/20\n",
            "469/469 [==============================] - 2s 4ms/step - loss: 0.2710 - accuracy: 0.9180 - val_loss: 0.2056 - val_accuracy: 0.9382\n"
          ],
          "name": "stdout"
        }
      ]
    },
    {
      "cell_type": "code",
      "metadata": {
        "id": "9R3Zt4ubbZtt",
        "colab": {
          "base_uri": "https://localhost:8080/"
        },
        "outputId": "aad750b7-f7bf-4a90-8073-cf877fab7f60"
      },
      "source": [
        "results.history.keys()"
      ],
      "execution_count": null,
      "outputs": [
        {
          "output_type": "execute_result",
          "data": {
            "text/plain": [
              "dict_keys(['loss', 'accuracy', 'val_loss', 'val_accuracy'])"
            ]
          },
          "metadata": {
            "tags": []
          },
          "execution_count": 147
        }
      ]
    },
    {
      "cell_type": "code",
      "metadata": {
        "id": "_ulJmnmptQCU",
        "colab": {
          "base_uri": "https://localhost:8080/",
          "height": 690
        },
        "outputId": "bb46260a-9a2e-4f65-b598-2991b0000a08"
      },
      "source": [
        "# summarize history for accuracy\n",
        "plt.figure(figsize = (12,5))\n",
        "plt.subplot(121)\n",
        "plt.plot(results.history['accuracy'])\n",
        "plt.plot(results.history['val_accuracy'])\n",
        "plt.title('model accuracy')\n",
        "plt.ylabel('accuracy')\n",
        "plt.xlabel('epoch')\n",
        "plt.legend(['train', 'val'], loc='down right')\n",
        "\n",
        "# summarize history for loss\n",
        "plt.subplot(122)\n",
        "plt.plot(results.history['loss'])\n",
        "plt.plot(results.history['val_loss'])\n",
        "plt.title('model loss')\n",
        "plt.ylabel('loss')\n",
        "plt.xlabel('epoch')\n",
        "plt.legend(['train', 'val'], loc='upper right')\n",
        "\n",
        "max_loss = np.max(results.history['loss'])\n",
        "min_loss = np.min(results.history['loss'])\n",
        "print(\"Maximum Loss : {:.4f}\".format(max_loss))\n",
        "print(\"\")\n",
        "print(\"Minimum Loss : {:.4f}\".format(min_loss))\n",
        "print(\"\")\n",
        "print(\"Loss difference : {:.4f}\".format((max_loss - min_loss)))"
      ],
      "execution_count": null,
      "outputs": [
        {
          "output_type": "stream",
          "text": [
            "/usr/local/lib/python3.7/dist-packages/ipykernel_launcher.py:9: MatplotlibDeprecationWarning: Unrecognized location 'down right'. Falling back on 'best'; valid locations are\n",
            "\tbest\n",
            "\tupper right\n",
            "\tupper left\n",
            "\tlower left\n",
            "\tlower right\n",
            "\tright\n",
            "\tcenter left\n",
            "\tcenter right\n",
            "\tlower center\n",
            "\tupper center\n",
            "\tcenter\n",
            "This will raise an exception in 3.3.\n",
            "  if __name__ == '__main__':\n"
          ],
          "name": "stderr"
        },
        {
          "output_type": "stream",
          "text": [
            "Maximum Loss : 1.1843\n",
            "\n",
            "Minimum Loss : 0.2662\n",
            "\n",
            "Loss difference : 0.9181\n"
          ],
          "name": "stdout"
        },
        {
          "output_type": "display_data",
          "data": {
            "image/png": "[encoded data removed]",
            "text/plain": [
              "<Figure size 864x360 with 2 Axes>"
            ]
          },
          "metadata": {
            "tags": []
          }
        }
      ]
    },
    {
      "cell_type": "markdown",
      "metadata": {
        "id": "YOciI7zwtFP2"
      },
      "source": [
        "#Task3\n",
        "##LR Scheduler"
      ]
    },
    {
      "cell_type": "markdown",
      "metadata": {
        "id": "RIoUzsT7gU0i"
      },
      "source": [
        "In this case, try to create an LR Scheduler manually with scheduler function and LearningRateScheduler callback from keras API."
      ]
    },
    {
      "cell_type": "code",
      "metadata": {
        "id": "Q2049XuNtJPk"
      },
      "source": [
        "from tensorflow.keras.callbacks import LearningRateScheduler"
      ],
      "execution_count": null,
      "outputs": []
    },
    {
      "cell_type": "code",
      "metadata": {
        "id": "we5xxW37tQMr"
      },
      "source": [
        "def scheduler(epoch, lr):\n",
        "  #create statements:\n",
        "  #if epoch less than 10 get back the initial lr, \n",
        "  #but if the number of epochs greater than 10 get back this equation: lr * tf.math.exp(-0.1)\n",
        "  if epoch < 10:\n",
        "    return lr\n",
        "  else:\n",
        "    return lr * tf.math.exp(-0.1)"
      ],
      "execution_count": null,
      "outputs": []
    },
    {
      "cell_type": "code",
      "metadata": {
        "id": "XRY3qyhhtpT-",
        "colab": {
          "base_uri": "https://localhost:8080/"
        },
        "outputId": "80e83d37-e387-4538-eb6c-7f392943e915"
      },
      "source": [
        "callback = tf.keras.callbacks.LearningRateScheduler(scheduler) #use the scheduler function for the LR scheduler\n",
        "\n",
        "history = model.fit(\n",
        "          x_train, y_train,\n",
        "          epochs= 15,\n",
        "          batch_size = 100,\n",
        "          validation_data = (x_test, y_test), #use the validation set\n",
        "          verbose = 1, # We need this, because Colab does not like if we print 1000 lines. So we disable keras status prints\n",
        "          callbacks = callback #add the callback which is the LR Scheduler\n",
        "          )"
      ],
      "execution_count": null,
      "outputs": [
        {
          "output_type": "stream",
          "text": [
            "Epoch 1/15\n",
            "600/600 [==============================] - 3s 4ms/step - loss: 0.2719 - accuracy: 0.9178 - val_loss: 0.2186 - val_accuracy: 0.9364\n",
            "Epoch 2/15\n",
            "600/600 [==============================] - 2s 4ms/step - loss: 0.2844 - accuracy: 0.9129 - val_loss: 0.2116 - val_accuracy: 0.9361\n",
            "Epoch 3/15\n",
            "600/600 [==============================] - 2s 4ms/step - loss: 0.2776 - accuracy: 0.9153 - val_loss: 0.2234 - val_accuracy: 0.9328\n",
            "Epoch 4/15\n",
            "600/600 [==============================] - 2s 4ms/step - loss: 0.2710 - accuracy: 0.9174 - val_loss: 0.2078 - val_accuracy: 0.9375\n",
            "Epoch 5/15\n",
            "600/600 [==============================] - 2s 4ms/step - loss: 0.2563 - accuracy: 0.9221 - val_loss: 0.1962 - val_accuracy: 0.9408\n",
            "Epoch 6/15\n",
            "600/600 [==============================] - 2s 4ms/step - loss: 0.2509 - accuracy: 0.9251 - val_loss: 0.1943 - val_accuracy: 0.9408\n",
            "Epoch 7/15\n",
            "600/600 [==============================] - 3s 4ms/step - loss: 0.2552 - accuracy: 0.9229 - val_loss: 0.2004 - val_accuracy: 0.9412\n",
            "Epoch 8/15\n",
            "600/600 [==============================] - 2s 4ms/step - loss: 0.2565 - accuracy: 0.9225 - val_loss: 0.1957 - val_accuracy: 0.9396\n",
            "Epoch 9/15\n",
            "600/600 [==============================] - 2s 4ms/step - loss: 0.2496 - accuracy: 0.9244 - val_loss: 0.1869 - val_accuracy: 0.9442\n",
            "Epoch 10/15\n",
            "600/600 [==============================] - 3s 4ms/step - loss: 0.2517 - accuracy: 0.9236 - val_loss: 0.1926 - val_accuracy: 0.9405\n",
            "Epoch 11/15\n",
            "600/600 [==============================] - 3s 4ms/step - loss: 0.2458 - accuracy: 0.9270 - val_loss: 0.1872 - val_accuracy: 0.9428\n",
            "Epoch 12/15\n",
            "600/600 [==============================] - 3s 4ms/step - loss: 0.2338 - accuracy: 0.9296 - val_loss: 0.1746 - val_accuracy: 0.9450\n",
            "Epoch 13/15\n",
            "600/600 [==============================] - 3s 4ms/step - loss: 0.2344 - accuracy: 0.9290 - val_loss: 0.1791 - val_accuracy: 0.9448\n",
            "Epoch 14/15\n",
            "600/600 [==============================] - 2s 4ms/step - loss: 0.2303 - accuracy: 0.9300 - val_loss: 0.1755 - val_accuracy: 0.9465\n",
            "Epoch 15/15\n",
            "600/600 [==============================] - 3s 4ms/step - loss: 0.2208 - accuracy: 0.9342 - val_loss: 0.1747 - val_accuracy: 0.9479\n"
          ],
          "name": "stdout"
        }
      ]
    },
    {
      "cell_type": "code",
      "metadata": {
        "colab": {
          "base_uri": "https://localhost:8080/"
        },
        "id": "tt5qI95o3llJ",
        "outputId": "38564885-df38-4d07-bf53-47891e5907e4"
      },
      "source": [
        "model.optimizer.lr.numpy()"
      ],
      "execution_count": null,
      "outputs": [
        {
          "output_type": "execute_result",
          "data": {
            "text/plain": [
              "0.06065308"
            ]
          },
          "metadata": {
            "tags": []
          },
          "execution_count": 200
        }
      ]
    },
    {
      "cell_type": "code",
      "metadata": {
        "id": "UYVSY03juKS4",
        "colab": {
          "base_uri": "https://localhost:8080/"
        },
        "outputId": "f7431fe2-f7c9-4488-f150-0dd49719d64a"
      },
      "source": [
        "scheduled_lr = round(model.optimizer.lr.numpy(), 5) #save the model.optimizer.lr like numpy array and round it with 5 points and print it\n",
        "print(scheduled_lr)"
      ],
      "execution_count": null,
      "outputs": [
        {
          "output_type": "stream",
          "text": [
            "0.00061\n"
          ],
          "name": "stdout"
        }
      ]
    },
    {
      "cell_type": "code",
      "metadata": {
        "id": "NrkJ2qxR13BD",
        "colab": {
          "base_uri": "https://localhost:8080/",
          "height": 690
        },
        "outputId": "278576db-c17b-4a50-80da-faf4933d4e59"
      },
      "source": [
        "# summarize history for accuracy\n",
        "plt.figure(figsize = (12,5))\n",
        "plt.subplot(121)\n",
        "plt.plot(history.history['accuracy'])\n",
        "plt.plot(history.history['val_accuracy'])\n",
        "plt.title('model accuracy')\n",
        "plt.ylabel('accuracy')\n",
        "plt.xlabel('epoch')\n",
        "plt.legend(['train', 'val'], loc='down right')\n",
        "\n",
        "# summarize history for loss\n",
        "plt.subplot(122)\n",
        "plt.plot(history.history['loss'])\n",
        "plt.plot(history.history['val_loss'])\n",
        "plt.title('model loss')\n",
        "plt.ylabel('loss')\n",
        "plt.xlabel('epoch')\n",
        "plt.legend(['train', 'val'], loc='upper right')\n",
        "\n",
        "max_loss = np.max(history.history['loss'])\n",
        "min_loss = np.min(history.history['loss'])\n",
        "print(\"Maximum Loss : {:.4f}\".format(max_loss))\n",
        "print(\"\")\n",
        "print(\"Minimum Loss : {:.4f}\".format(min_loss))\n",
        "print(\"\")\n",
        "print(\"Loss difference : {:.4f}\".format((max_loss - min_loss)))"
      ],
      "execution_count": null,
      "outputs": [
        {
          "output_type": "stream",
          "text": [
            "/usr/local/lib/python3.7/dist-packages/ipykernel_launcher.py:9: MatplotlibDeprecationWarning: Unrecognized location 'down right'. Falling back on 'best'; valid locations are\n",
            "\tbest\n",
            "\tupper right\n",
            "\tupper left\n",
            "\tlower left\n",
            "\tlower right\n",
            "\tright\n",
            "\tcenter left\n",
            "\tcenter right\n",
            "\tlower center\n",
            "\tupper center\n",
            "\tcenter\n",
            "This will raise an exception in 3.3.\n",
            "  if __name__ == '__main__':\n"
          ],
          "name": "stderr"
        },
        {
          "output_type": "stream",
          "text": [
            "Maximum Loss : 0.2844\n",
            "\n",
            "Minimum Loss : 0.2208\n",
            "\n",
            "Loss difference : 0.0636\n"
          ],
          "name": "stdout"
        },
        {
          "output_type": "display_data",
          "data": {
            "image/png": "[encoded data removed]",
            "text/plain": [
              "<Figure size 864x360 with 2 Axes>"
            ]
          },
          "metadata": {
            "tags": []
          }
        }
      ]
    },
    {
      "cell_type": "markdown",
      "metadata": {
        "id": "n-koysvictHr"
      },
      "source": [
        "#Task4\n",
        "##LRFinder"
      ]
    },
    {
      "cell_type": "markdown",
      "metadata": {
        "id": "x27O2FMYhEHc"
      },
      "source": [
        "There is a predefined learning rate finder function on [github](https://github.com/titu1994/keras-one-cycle/blob/master/clr.py) which we try. Please download the functions and try to use it with our hints."
      ]
    },
    {
      "cell_type": "code",
      "metadata": {
        "id": "VR9kUVJ5h2im"
      },
      "source": [
        "!wget \"https://raw.githubusercontent.com/solalatus/IBS_GF_kepzes/main/Big_Data_and_ML/04Hyperparameters/clr.py?token=AHL2UDKITYK3K27TYW4F7XLBDIE2M\" -O clr.py"
      ],
      "execution_count": null,
      "outputs": []
    },
    {
      "cell_type": "code",
      "metadata": {
        "id": "3sL8tAI2cwGV"
      },
      "source": [
        "import os\n",
        "import numpy as np\n",
        "import warnings\n",
        "\n",
        "from tensorflow.keras.callbacks import Callback\n",
        "from keras import backend as K"
      ],
      "execution_count": null,
      "outputs": []
    },
    {
      "cell_type": "markdown",
      "metadata": {
        "id": "lnpk-PCsh93K"
      },
      "source": [
        "In this step we import the LRFinder function, and try to use it. This function need start and end number of learning rate. After that this function iterate all from start to end lr step by step, and measure the accuracies and losses on training and validation set too. After that, the function get back the maximum of lr."
      ]
    },
    {
      "cell_type": "code",
      "metadata": {
        "id": "3i73iK_Hc7Os"
      },
      "source": [
        "from clr import LRFinder\n",
        "\n",
        "num_samples = 600 #number of samples\n",
        "batch_size = 236 #training batch size\n",
        "minimum_lr = 1e-5 #starting lr eg.: 1e-5\n",
        "maximum_lr = 30 #maximum lr eg.: 10\n",
        "\n",
        "lr_callback = LRFinder(num_samples, batch_size,\n",
        "                       minimum_lr, maximum_lr,\n",
        "                       validation_data=(x_test, y_test),\n",
        "                       lr_scale='exp')"
      ],
      "execution_count": null,
      "outputs": []
    },
    {
      "cell_type": "code",
      "metadata": {
        "id": "DP0fkH-0dXfO",
        "colab": {
          "base_uri": "https://localhost:8080/"
        },
        "outputId": "b4dbe442-437f-4d49-83f7-783a3ebf727c"
      },
      "source": [
        "# Ensure that number of epochs = 1 when calling fit()\n",
        "model.fit(x_train, y_train, epochs=1, batch_size=batch_size, callbacks=[lr_callback])"
      ],
      "execution_count": null,
      "outputs": [
        {
          "output_type": "stream",
          "text": [
            "  1/255 [..............................] - ETA: 1s - loss: 158.1150 - accuracy: 0.1017 - LRFinder: val_loss: 172.7277 - lr = 0.01732051 \n",
            "  2/255 [..............................] - ETA: 16s - loss: 174.5549 - accuracy: 0.1024 - LRFinder: val_loss: 169.3072 - lr = 30.00000011 \n",
            "  3/255 [..............................] - ETA: 16s - loss: 169.8734 - accuracy: 0.1038 - LRFinder: val_loss: 182.8443 - lr = 51961.52422707 \n",
            "  4/255 [..............................] - ETA: 16s - loss: 185.2303 - accuracy: 0.0953 - LRFinder: Skipping iteration since loss is 4 times as large as best loss (3109.1734)\n",
            "  5/255 [..............................] - ETA: 16s - loss: 242751.0938 - accuracy: 0.1130 - LRFinder: Skipping iteration since loss is 4 times as large as best loss (3109.1734)\n",
            "  6/255 [..............................] - ETA: 16s - loss: 460832.7188 - accuracy: 0.0975 - LRFinder: Skipping iteration since loss is 4 times as large as best loss (3109.1734)\n",
            "WARNING:tensorflow:Callback method `on_train_batch_end` is slow compared to the batch time (batch time: 0.0048s vs `on_train_batch_end` time: 0.0620s). Check your callbacks.\n",
            "  7/255 [..............................] - ETA: 16s - loss: 547467.3750 - accuracy: 0.1031 - LRFinder: Skipping iteration since loss is 4 times as large as best loss (3109.1734)\n",
            "  8/255 [..............................] - ETA: 16s - loss: 778616.7500 - accuracy: 0.0876 - LRFinder: Skipping iteration since loss is 4 times as large as best loss (3109.1734)\n",
            "  9/255 [>.............................] - ETA: 16s - loss: 955654.9375 - accuracy: 0.1010 - LRFinder: Skipping iteration since loss is 4 times as large as best loss (3109.1734)\n",
            " 10/255 [>.............................] - ETA: 17s - loss: 941352.0625 - accuracy: 0.1109 - LRFinder: Skipping iteration since loss is 4 times as large as best loss (3109.1734)\n",
            " 11/255 [>.............................] - ETA: 17s - loss: 974073.6875 - accuracy: 0.0975 - LRFinder: Skipping iteration since loss is 4 times as large as best loss (3109.1734)\n",
            " 12/255 [>.............................] - ETA: 17s - loss: 1070639.8750 - accuracy: 0.0968 - LRFinder: Skipping iteration since loss is 4 times as large as best loss (3109.1734)\n",
            " 13/255 [>.............................] - ETA: 16s - loss: 890295.5625 - accuracy: 0.1024  - LRFinder: Skipping iteration since loss is 4 times as large as best loss (3109.1734)\n",
            " 14/255 [>.............................] - ETA: 16s - loss: 602823.2500 - accuracy: 0.0925 - LRFinder: Skipping iteration since loss is 4 times as large as best loss (3109.1734)\n",
            " 15/255 [>.............................] - ETA: 16s - loss: 762907.7500 - accuracy: 0.0890 - LRFinder: Skipping iteration since loss is 4 times as large as best loss (3109.1734)\n",
            " 16/255 [>.............................] - ETA: 16s - loss: 583993.0000 - accuracy: 0.1038 - LRFinder: Skipping iteration since loss is 4 times as large as best loss (3109.1734)\n",
            " 17/255 [=>............................] - ETA: 16s - loss: 723699.6250 - accuracy: 0.0925 - LRFinder: Skipping iteration since loss is 4 times as large as best loss (3109.1734)\n",
            " 18/255 [=>............................] - ETA: 17s - loss: 754209.0625 - accuracy: 0.0890 - LRFinder: Skipping iteration since loss is 4 times as large as best loss (3109.1734)\n",
            " 19/255 [=>............................] - ETA: 16s - loss: 902341.2500 - accuracy: 0.1116 - LRFinder: Skipping iteration since loss is 4 times as large as best loss (3109.1734)\n",
            " 20/255 [=>............................] - ETA: 16s - loss: 982609.8125 - accuracy: 0.0982 - LRFinder: Skipping iteration since loss is 4 times as large as best loss (3109.1734)\n",
            " 21/255 [=>............................] - ETA: 16s - loss: 1059601.2500 - accuracy: 0.0975 - LRFinder: Skipping iteration since loss is 4 times as large as best loss (3109.1734)\n",
            " 22/255 [=>............................] - ETA: 16s - loss: 816782.4375 - accuracy: 0.1073  - LRFinder: Skipping iteration since loss is 4 times as large as best loss (3109.1734)\n",
            " 23/255 [=>............................] - ETA: 16s - loss: 750757.1250 - accuracy: 0.0847 - LRFinder: Skipping iteration since loss is 4 times as large as best loss (3109.1734)\n",
            " 24/255 [=>............................] - ETA: 16s - loss: 620763.8125 - accuracy: 0.0968 - LRFinder: Skipping iteration since loss is 4 times as large as best loss (3109.1734)\n",
            " 25/255 [=>............................] - ETA: 16s - loss: 454041.5312 - accuracy: 0.0968 - LRFinder: Skipping iteration since loss is 4 times as large as best loss (3109.1734)\n",
            " 26/255 [==>...........................] - ETA: 16s - loss: 395711.8750 - accuracy: 0.1003 - LRFinder: Skipping iteration since loss is 4 times as large as best loss (3109.1734)\n",
            " 27/255 [==>...........................] - ETA: 16s - loss: 339520.7812 - accuracy: 0.1031 - LRFinder: Skipping iteration since loss is 4 times as large as best loss (3109.1734)\n",
            " 28/255 [==>...........................] - ETA: 16s - loss: 367842.9062 - accuracy: 0.0932 - LRFinder: Skipping iteration since loss is 4 times as large as best loss (3109.1734)\n",
            " 29/255 [==>...........................] - ETA: 16s - loss: 417958.4062 - accuracy: 0.1102 - LRFinder: Skipping iteration since loss is 4 times as large as best loss (3109.1734)\n",
            " 30/255 [==>...........................] - ETA: 16s - loss: 497122.7500 - accuracy: 0.1010 - LRFinder: Skipping iteration since loss is 4 times as large as best loss (3109.1734)\n",
            " 31/255 [==>...........................] - ETA: 15s - loss: 492013.1875 - accuracy: 0.0805 - LRFinder: Skipping iteration since loss is 4 times as large as best loss (3109.1734)\n",
            " 32/255 [==>...........................] - ETA: 15s - loss: 532637.5000 - accuracy: 0.1073 - LRFinder: Skipping iteration since loss is 4 times as large as best loss (3109.1734)\n",
            " 33/255 [==>...........................] - ETA: 15s - loss: 552418.3750 - accuracy: 0.0840 - LRFinder: Skipping iteration since loss is 4 times as large as best loss (3109.1734)\n",
            " 34/255 [===>..........................] - ETA: 15s - loss: 627142.6875 - accuracy: 0.1102 - LRFinder: Skipping iteration since loss is 4 times as large as best loss (3109.1734)\n",
            " 35/255 [===>..........................] - ETA: 15s - loss: 709385.8750 - accuracy: 0.0953 - LRFinder: Skipping iteration since loss is 4 times as large as best loss (3109.1734)\n",
            " 36/255 [===>..........................] - ETA: 15s - loss: 809034.8750 - accuracy: 0.1073 - LRFinder: Skipping iteration since loss is 4 times as large as best loss (3109.1734)\n",
            " 37/255 [===>..........................] - ETA: 15s - loss: 653030.5625 - accuracy: 0.1066 - LRFinder: Skipping iteration since loss is 4 times as large as best loss (3109.1734)\n",
            " 38/255 [===>..........................] - ETA: 15s - loss: 545990.0625 - accuracy: 0.1052 - LRFinder: Skipping iteration since loss is 4 times as large as best loss (3109.1734)\n",
            " 39/255 [===>..........................] - ETA: 15s - loss: 395703.2188 - accuracy: 0.0989 - LRFinder: Skipping iteration since loss is 4 times as large as best loss (3109.1734)\n",
            " 40/255 [===>..........................] - ETA: 15s - loss: 495432.0000 - accuracy: 0.0968 - LRFinder: Skipping iteration since loss is 4 times as large as best loss (3109.1734)\n",
            " 41/255 [===>..........................] - ETA: 15s - loss: 679107.0000 - accuracy: 0.1003 - LRFinder: Skipping iteration since loss is 4 times as large as best loss (3109.1734)\n",
            " 42/255 [===>..........................] - ETA: 15s - loss: 552400.0000 - accuracy: 0.0869 - LRFinder: Skipping iteration since loss is 4 times as large as best loss (3109.1734)\n",
            " 43/255 [====>.........................] - ETA: 15s - loss: 537171.2500 - accuracy: 0.0939 - LRFinder: Skipping iteration since loss is 4 times as large as best loss (3109.1734)\n",
            " 44/255 [====>.........................] - ETA: 15s - loss: 637808.6875 - accuracy: 0.1123 - LRFinder: Skipping iteration since loss is 4 times as large as best loss (3109.1734)\n",
            " 45/255 [====>.........................] - ETA: 14s - loss: 808595.1875 - accuracy: 0.1003 - LRFinder: Skipping iteration since loss is 4 times as large as best loss (3109.1734)\n",
            " 46/255 [====>.........................] - ETA: 14s - loss: 949859.2500 - accuracy: 0.1116 - LRFinder: Skipping iteration since loss is 4 times as large as best loss (3109.1734)\n",
            " 47/255 [====>.........................] - ETA: 14s - loss: 853600.0625 - accuracy: 0.0911 - LRFinder: Skipping iteration since loss is 4 times as large as best loss (3109.1734)\n",
            " 48/255 [====>.........................] - ETA: 14s - loss: 720065.5625 - accuracy: 0.0784 - LRFinder: Skipping iteration since loss is 4 times as large as best loss (3109.1734)\n",
            " 49/255 [====>.........................] - ETA: 14s - loss: 755642.5000 - accuracy: 0.0953 - LRFinder: Skipping iteration since loss is 4 times as large as best loss (3109.1734)\n",
            " 50/255 [====>.........................] - ETA: 14s - loss: 764401.4375 - accuracy: 0.1045 - LRFinder: Skipping iteration since loss is 4 times as large as best loss (3109.1734)\n",
            " 51/255 [=====>........................] - ETA: 14s - loss: 473180.9375 - accuracy: 0.0890 - LRFinder: Skipping iteration since loss is 4 times as large as best loss (3109.1734)\n",
            " 52/255 [=====>........................] - ETA: 14s - loss: 584725.5000 - accuracy: 0.1003 - LRFinder: Skipping iteration since loss is 4 times as large as best loss (3109.1734)\n",
            " 53/255 [=====>........................] - ETA: 14s - loss: 740622.6250 - accuracy: 0.1045 - LRFinder: Skipping iteration since loss is 4 times as large as best loss (3109.1734)\n",
            " 54/255 [=====>........................] - ETA: 14s - loss: 765522.1875 - accuracy: 0.1229 - LRFinder: Skipping iteration since loss is 4 times as large as best loss (3109.1734)\n",
            " 55/255 [=====>........................] - ETA: 14s - loss: 943756.5625 - accuracy: 0.1045 - LRFinder: Skipping iteration since loss is 4 times as large as best loss (3109.1734)\n",
            " 56/255 [=====>........................] - ETA: 14s - loss: 721840.7500 - accuracy: 0.0911 - LRFinder: Skipping iteration since loss is 4 times as large as best loss (3109.1734)\n",
            " 57/255 [=====>........................] - ETA: 14s - loss: 609558.6250 - accuracy: 0.1172 - LRFinder: Skipping iteration since loss is 4 times as large as best loss (3109.1734)\n",
            " 58/255 [=====>........................] - ETA: 13s - loss: 827029.3125 - accuracy: 0.1031 - LRFinder: Skipping iteration since loss is 4 times as large as best loss (3109.1734)\n",
            " 59/255 [=====>........................] - ETA: 13s - loss: 694301.2500 - accuracy: 0.1066 - LRFinder: Skipping iteration since loss is 4 times as large as best loss (3109.1734)\n",
            " 60/255 [======>.......................] - ETA: 13s - loss: 654077.1875 - accuracy: 0.1059 - LRFinder: Skipping iteration since loss is 4 times as large as best loss (3109.1734)\n",
            " 61/255 [======>.......................] - ETA: 13s - loss: 746848.1250 - accuracy: 0.1038 - LRFinder: Skipping iteration since loss is 4 times as large as best loss (3109.1734)\n",
            " 62/255 [======>.......................] - ETA: 13s - loss: 809133.9375 - accuracy: 0.0989 - LRFinder: Skipping iteration since loss is 4 times as large as best loss (3109.1734)\n",
            " 63/255 [======>.......................] - ETA: 13s - loss: 917926.7500 - accuracy: 0.1081 - LRFinder: Skipping iteration since loss is 4 times as large as best loss (3109.1734)\n",
            " 64/255 [======>.......................] - ETA: 13s - loss: 830817.6875 - accuracy: 0.0869 - LRFinder: Skipping iteration since loss is 4 times as large as best loss (3109.1734)\n",
            " 65/255 [======>.......................] - ETA: 13s - loss: 753353.7500 - accuracy: 0.0911 - LRFinder: Skipping iteration since loss is 4 times as large as best loss (3109.1734)\n",
            " 66/255 [======>.......................] - ETA: 13s - loss: 918301.6250 - accuracy: 0.0925 - LRFinder: Skipping iteration since loss is 4 times as large as best loss (3109.1734)\n",
            " 67/255 [======>.......................] - ETA: 13s - loss: 847991.0625 - accuracy: 0.0911 - LRFinder: Skipping iteration since loss is 4 times as large as best loss (3109.1734)\n",
            " 68/255 [=======>......................] - ETA: 13s - loss: 692823.3125 - accuracy: 0.0996 - LRFinder: Skipping iteration since loss is 4 times as large as best loss (3109.1734)\n",
            " 69/255 [=======>......................] - ETA: 13s - loss: 624062.6250 - accuracy: 0.0939 - LRFinder: Skipping iteration since loss is 4 times as large as best loss (3109.1734)\n",
            " 70/255 [=======>......................] - ETA: 13s - loss: 731579.0000 - accuracy: 0.1003 - LRFinder: Skipping iteration since loss is 4 times as large as best loss (3109.1734)\n",
            " 71/255 [=======>......................] - ETA: 13s - loss: 676543.1875 - accuracy: 0.1151 - LRFinder: Skipping iteration since loss is 4 times as large as best loss (3109.1734)\n",
            " 72/255 [=======>......................] - ETA: 12s - loss: 729290.5625 - accuracy: 0.0975 - LRFinder: Skipping iteration since loss is 4 times as large as best loss (3109.1734)\n",
            " 73/255 [=======>......................] - ETA: 12s - loss: 780613.6250 - accuracy: 0.0833 - LRFinder: Skipping iteration since loss is 4 times as large as best loss (3109.1734)\n",
            " 74/255 [=======>......................] - ETA: 12s - loss: 636189.5625 - accuracy: 0.0862 - LRFinder: Skipping iteration since loss is 4 times as large as best loss (3109.1734)\n",
            " 75/255 [=======>......................] - ETA: 12s - loss: 649082.8750 - accuracy: 0.1066 - LRFinder: Skipping iteration since loss is 4 times as large as best loss (3109.1734)\n",
            " 76/255 [=======>......................] - ETA: 12s - loss: 330686.1250 - accuracy: 0.1052 - LRFinder: Skipping iteration since loss is 4 times as large as best loss (3109.1734)\n",
            " 77/255 [========>.....................] - ETA: 12s - loss: 529518.9375 - accuracy: 0.0989 - LRFinder: Skipping iteration since loss is 4 times as large as best loss (3109.1734)\n",
            " 78/255 [========>.....................] - ETA: 12s - loss: 451613.8750 - accuracy: 0.1003 - LRFinder: Skipping iteration since loss is 4 times as large as best loss (3109.1734)\n",
            " 79/255 [========>.....................] - ETA: 12s - loss: 604552.5000 - accuracy: 0.0960 - LRFinder: Skipping iteration since loss is 4 times as large as best loss (3109.1734)\n",
            " 80/255 [========>.....................] - ETA: 12s - loss: 571964.6250 - accuracy: 0.0911 - LRFinder: Skipping iteration since loss is 4 times as large as best loss (3109.1734)\n",
            " 81/255 [========>.....................] - ETA: 12s - loss: 521017.2188 - accuracy: 0.0960 - LRFinder: Skipping iteration since loss is 4 times as large as best loss (3109.1734)\n",
            " 82/255 [========>.....................] - ETA: 12s - loss: 540317.4375 - accuracy: 0.0946 - LRFinder: Skipping iteration since loss is 4 times as large as best loss (3109.1734)\n",
            " 83/255 [========>.....................] - ETA: 12s - loss: 384548.3438 - accuracy: 0.0904 - LRFinder: Skipping iteration since loss is 4 times as large as best loss (3109.1734)\n",
            " 84/255 [========>.....................] - ETA: 12s - loss: 504417.2500 - accuracy: 0.0960 - LRFinder: Skipping iteration since loss is 4 times as large as best loss (3109.1734)\n",
            " 85/255 [=========>....................] - ETA: 12s - loss: 538244.8750 - accuracy: 0.0918 - LRFinder: Skipping iteration since loss is 4 times as large as best loss (3109.1734)\n",
            " 86/255 [=========>....................] - ETA: 11s - loss: 618827.0000 - accuracy: 0.0925 - LRFinder: Skipping iteration since loss is 4 times as large as best loss (3109.1734)\n",
            " 87/255 [=========>....................] - ETA: 11s - loss: 685889.3750 - accuracy: 0.0996 - LRFinder: Skipping iteration since loss is 4 times as large as best loss (3109.1734)\n",
            " 88/255 [=========>....................] - ETA: 11s - loss: 829272.4375 - accuracy: 0.0960 - LRFinder: Skipping iteration since loss is 4 times as large as best loss (3109.1734)\n",
            " 89/255 [=========>....................] - ETA: 11s - loss: 665327.9375 - accuracy: 0.1045 - LRFinder: Skipping iteration since loss is 4 times as large as best loss (3109.1734)\n",
            " 90/255 [=========>....................] - ETA: 11s - loss: 545700.3125 - accuracy: 0.1059 - LRFinder: Skipping iteration since loss is 4 times as large as best loss (3109.1734)\n",
            " 91/255 [=========>....................] - ETA: 11s - loss: 310345.0938 - accuracy: 0.1095 - LRFinder: Skipping iteration since loss is 4 times as large as best loss (3109.1734)\n",
            " 92/255 [=========>....................] - ETA: 11s - loss: 439248.6250 - accuracy: 0.0911 - LRFinder: Skipping iteration since loss is 4 times as large as best loss (3109.1734)\n",
            " 93/255 [=========>....................] - ETA: 11s - loss: 460636.4688 - accuracy: 0.1003 - LRFinder: Skipping iteration since loss is 4 times as large as best loss (3109.1734)\n",
            " 94/255 [==========>...................] - ETA: 11s - loss: 498119.3750 - accuracy: 0.1003 - LRFinder: Skipping iteration since loss is 4 times as large as best loss (3109.1734)\n",
            " 95/255 [==========>...................] - ETA: 11s - loss: 648384.6250 - accuracy: 0.1010 - LRFinder: Skipping iteration since loss is 4 times as large as best loss (3109.1734)\n",
            " 96/255 [==========>...................] - ETA: 11s - loss: 753302.0625 - accuracy: 0.0869 - LRFinder: Skipping iteration since loss is 4 times as large as best loss (3109.1734)\n",
            " 97/255 [==========>...................] - ETA: 11s - loss: 899362.3750 - accuracy: 0.1031 - LRFinder: Skipping iteration since loss is 4 times as large as best loss (3109.1734)\n",
            " 98/255 [==========>...................] - ETA: 11s - loss: 759868.9375 - accuracy: 0.1116 - LRFinder: Skipping iteration since loss is 4 times as large as best loss (3109.1734)\n",
            " 99/255 [==========>...................] - ETA: 11s - loss: 932343.3125 - accuracy: 0.1045 - LRFinder: Skipping iteration since loss is 4 times as large as best loss (3109.1734)\n",
            "100/255 [==========>...................] - ETA: 10s - loss: 796695.6875 - accuracy: 0.0869 - LRFinder: Skipping iteration since loss is 4 times as large as best loss (3109.1734)\n",
            "101/255 [==========>...................] - ETA: 10s - loss: 665574.6250 - accuracy: 0.1052 - LRFinder: Skipping iteration since loss is 4 times as large as best loss (3109.1734)\n",
            "102/255 [===========>..................] - ETA: 10s - loss: 737851.1875 - accuracy: 0.0953 - LRFinder: Skipping iteration since loss is 4 times as large as best loss (3109.1734)\n",
            "103/255 [===========>..................] - ETA: 10s - loss: 821001.7500 - accuracy: 0.1010 - LRFinder: Skipping iteration since loss is 4 times as large as best loss (3109.1734)\n",
            "104/255 [===========>..................] - ETA: 10s - loss: 669355.5000 - accuracy: 0.1151 - LRFinder: Skipping iteration since loss is 4 times as large as best loss (3109.1734)\n",
            "105/255 [===========>..................] - ETA: 10s - loss: 683512.5625 - accuracy: 0.0960 - LRFinder: Skipping iteration since loss is 4 times as large as best loss (3109.1734)\n",
            "106/255 [===========>..................] - ETA: 10s - loss: 536343.3125 - accuracy: 0.1024 - LRFinder: Skipping iteration since loss is 4 times as large as best loss (3109.1734)\n",
            "107/255 [===========>..................] - ETA: 10s - loss: 505069.1875 - accuracy: 0.1059 - LRFinder: Skipping iteration since loss is 4 times as large as best loss (3109.1734)\n",
            "108/255 [===========>..................] - ETA: 10s - loss: 491494.6875 - accuracy: 0.1081 - LRFinder: Skipping iteration since loss is 4 times as large as best loss (3109.1734)\n",
            "109/255 [===========>..................] - ETA: 10s - loss: 406255.0000 - accuracy: 0.1081 - LRFinder: Skipping iteration since loss is 4 times as large as best loss (3109.1734)\n",
            "110/255 [===========>..................] - ETA: 10s - loss: 402431.1562 - accuracy: 0.0960 - LRFinder: Skipping iteration since loss is 4 times as large as best loss (3109.1734)\n",
            "111/255 [============>.................] - ETA: 10s - loss: 443958.5938 - accuracy: 0.1066 - LRFinder: Skipping iteration since loss is 4 times as large as best loss (3109.1734)\n",
            "112/255 [============>.................] - ETA: 10s - loss: 297242.7500 - accuracy: 0.1194 - LRFinder: Skipping iteration since loss is 4 times as large as best loss (3109.1734)\n",
            "113/255 [============>.................] - ETA: 10s - loss: 171457.5312 - accuracy: 0.1116 - LRFinder: Skipping iteration since loss is 4 times as large as best loss (3109.1734)\n",
            "114/255 [============>.................] - ETA: 9s - loss: 268384.1562 - accuracy: 0.1003  - LRFinder: Skipping iteration since loss is 4 times as large as best loss (3109.1734)\n",
            "115/255 [============>.................] - ETA: 9s - loss: 371041.6250 - accuracy: 0.1031 - LRFinder: Skipping iteration since loss is 4 times as large as best loss (3109.1734)\n",
            "116/255 [============>.................] - ETA: 9s - loss: 405351.9062 - accuracy: 0.0847 - LRFinder: Skipping iteration since loss is 4 times as large as best loss (3109.1734)\n",
            "117/255 [============>.................] - ETA: 9s - loss: 474575.1875 - accuracy: 0.1194 - LRFinder: Skipping iteration since loss is 4 times as large as best loss (3109.1734)\n",
            "118/255 [============>.................] - ETA: 9s - loss: 588839.0625 - accuracy: 0.0939 - LRFinder: Skipping iteration since loss is 4 times as large as best loss (3109.1734)\n",
            "119/255 [=============>................] - ETA: 9s - loss: 635857.8750 - accuracy: 0.0932 - LRFinder: Skipping iteration since loss is 4 times as large as best loss (3109.1734)\n",
            "120/255 [=============>................] - ETA: 9s - loss: 747015.9375 - accuracy: 0.1102 - LRFinder: Skipping iteration since loss is 4 times as large as best loss (3109.1734)\n",
            "121/255 [=============>................] - ETA: 9s - loss: 851658.3125 - accuracy: 0.0982 - LRFinder: Skipping iteration since loss is 4 times as large as best loss (3109.1734)\n",
            "122/255 [=============>................] - ETA: 9s - loss: 711872.0000 - accuracy: 0.0925 - LRFinder: Skipping iteration since loss is 4 times as large as best loss (3109.1734)\n",
            "123/255 [=============>................] - ETA: 9s - loss: 305295.0625 - accuracy: 0.1073 - LRFinder: Skipping iteration since loss is 4 times as large as best loss (3109.1734)\n",
            "124/255 [=============>................] - ETA: 9s - loss: 422753.9062 - accuracy: 0.1059 - LRFinder: Skipping iteration since loss is 4 times as large as best loss (3109.1734)\n",
            "125/255 [=============>................] - ETA: 9s - loss: 508346.5312 - accuracy: 0.1038 - LRFinder: Skipping iteration since loss is 4 times as large as best loss (3109.1734)\n",
            "126/255 [=============>................] - ETA: 9s - loss: 657980.1250 - accuracy: 0.0883 - LRFinder: Skipping iteration since loss is 4 times as large as best loss (3109.1734)\n",
            "127/255 [=============>................] - ETA: 9s - loss: 530303.3750 - accuracy: 0.0975 - LRFinder: Skipping iteration since loss is 4 times as large as best loss (3109.1734)\n",
            "128/255 [==============>...............] - ETA: 8s - loss: 655904.0625 - accuracy: 0.0939 - LRFinder: Skipping iteration since loss is 4 times as large as best loss (3109.1734)\n",
            "129/255 [==============>...............] - ETA: 8s - loss: 487341.5000 - accuracy: 0.1073 - LRFinder: Skipping iteration since loss is 4 times as large as best loss (3109.1734)\n",
            "130/255 [==============>...............] - ETA: 8s - loss: 502462.8750 - accuracy: 0.1130 - LRFinder: Skipping iteration since loss is 4 times as large as best loss (3109.1734)\n",
            "131/255 [==============>...............] - ETA: 8s - loss: 685197.6250 - accuracy: 0.1236 - LRFinder: Skipping iteration since loss is 4 times as large as best loss (3109.1734)\n",
            "132/255 [==============>...............] - ETA: 8s - loss: 661988.8125 - accuracy: 0.1059 - LRFinder: Skipping iteration since loss is 4 times as large as best loss (3109.1734)\n",
            "133/255 [==============>...............] - ETA: 8s - loss: 571382.6875 - accuracy: 0.0855 - LRFinder: Skipping iteration since loss is 4 times as large as best loss (3109.1734)\n",
            "134/255 [==============>...............] - ETA: 8s - loss: 422731.0625 - accuracy: 0.1081 - LRFinder: Skipping iteration since loss is 4 times as large as best loss (3109.1734)\n",
            "135/255 [==============>...............] - ETA: 8s - loss: 466599.9688 - accuracy: 0.1017 - LRFinder: Skipping iteration since loss is 4 times as large as best loss (3109.1734)\n",
            "136/255 [===============>..............] - ETA: 8s - loss: 492249.6875 - accuracy: 0.1038 - LRFinder: Skipping iteration since loss is 4 times as large as best loss (3109.1734)\n",
            "137/255 [===============>..............] - ETA: 8s - loss: 590246.9375 - accuracy: 0.0869 - LRFinder: Skipping iteration since loss is 4 times as large as best loss (3109.1734)\n",
            "138/255 [===============>..............] - ETA: 8s - loss: 624655.3750 - accuracy: 0.0819 - LRFinder: Skipping iteration since loss is 4 times as large as best loss (3109.1734)\n",
            "139/255 [===============>..............] - ETA: 8s - loss: 672000.8125 - accuracy: 0.0911 - LRFinder: Skipping iteration since loss is 4 times as large as best loss (3109.1734)\n",
            "140/255 [===============>..............] - ETA: 8s - loss: 704389.5625 - accuracy: 0.1031 - LRFinder: Skipping iteration since loss is 4 times as large as best loss (3109.1734)\n",
            "141/255 [===============>..............] - ETA: 8s - loss: 545904.1250 - accuracy: 0.0989 - LRFinder: Skipping iteration since loss is 4 times as large as best loss (3109.1734)\n",
            "142/255 [===============>..............] - ETA: 8s - loss: 554329.7500 - accuracy: 0.0918 - LRFinder: Skipping iteration since loss is 4 times as large as best loss (3109.1734)\n",
            "143/255 [===============>..............] - ETA: 7s - loss: 733275.0000 - accuracy: 0.1137 - LRFinder: Skipping iteration since loss is 4 times as large as best loss (3109.1734)\n",
            "144/255 [===============>..............] - ETA: 7s - loss: 675430.8750 - accuracy: 0.1137 - LRFinder: Skipping iteration since loss is 4 times as large as best loss (3109.1734)\n",
            "145/255 [================>.............] - ETA: 7s - loss: 762454.7500 - accuracy: 0.1052 - LRFinder: Skipping iteration since loss is 4 times as large as best loss (3109.1734)\n",
            "146/255 [================>.............] - ETA: 7s - loss: 596109.6250 - accuracy: 0.0946 - LRFinder: Skipping iteration since loss is 4 times as large as best loss (3109.1734)\n",
            "147/255 [================>.............] - ETA: 7s - loss: 430891.6250 - accuracy: 0.1031 - LRFinder: Skipping iteration since loss is 4 times as large as best loss (3109.1734)\n",
            "148/255 [================>.............] - ETA: 7s - loss: 456994.7500 - accuracy: 0.0975 - LRFinder: Skipping iteration since loss is 4 times as large as best loss (3109.1734)\n",
            "149/255 [================>.............] - ETA: 7s - loss: 495973.5938 - accuracy: 0.1081 - LRFinder: Skipping iteration since loss is 4 times as large as best loss (3109.1734)\n",
            "150/255 [================>.............] - ETA: 7s - loss: 509065.8125 - accuracy: 0.0904 - LRFinder: Skipping iteration since loss is 4 times as large as best loss (3109.1734)\n",
            "151/255 [================>.............] - ETA: 7s - loss: 716514.1875 - accuracy: 0.1186 - LRFinder: Skipping iteration since loss is 4 times as large as best loss (3109.1734)\n",
            "152/255 [================>.............] - ETA: 7s - loss: 850748.7500 - accuracy: 0.0996 - LRFinder: Skipping iteration since loss is 4 times as large as best loss (3109.1734)\n",
            "153/255 [=================>............] - ETA: 7s - loss: 738158.6875 - accuracy: 0.1081 - LRFinder: Skipping iteration since loss is 4 times as large as best loss (3109.1734)\n",
            "154/255 [=================>............] - ETA: 7s - loss: 815880.2500 - accuracy: 0.1066 - LRFinder: Skipping iteration since loss is 4 times as large as best loss (3109.1734)\n",
            "155/255 [=================>............] - ETA: 7s - loss: 680183.3125 - accuracy: 0.1003 - LRFinder: Skipping iteration since loss is 4 times as large as best loss (3109.1734)\n",
            "156/255 [=================>............] - ETA: 7s - loss: 604859.3750 - accuracy: 0.1201 - LRFinder: Skipping iteration since loss is 4 times as large as best loss (3109.1734)\n",
            "157/255 [=================>............] - ETA: 6s - loss: 663471.0625 - accuracy: 0.1081 - LRFinder: Skipping iteration since loss is 4 times as large as best loss (3109.1734)\n",
            "158/255 [=================>............] - ETA: 6s - loss: 634967.7500 - accuracy: 0.0968 - LRFinder: Skipping iteration since loss is 4 times as large as best loss (3109.1734)\n",
            "159/255 [=================>............] - ETA: 6s - loss: 734246.2500 - accuracy: 0.1052 - LRFinder: Skipping iteration since loss is 4 times as large as best loss (3109.1734)\n",
            "160/255 [=================>............] - ETA: 6s - loss: 660735.5625 - accuracy: 0.0897 - LRFinder: Skipping iteration since loss is 4 times as large as best loss (3109.1734)\n",
            "161/255 [=================>............] - ETA: 6s - loss: 776427.5000 - accuracy: 0.0932 - LRFinder: Skipping iteration since loss is 4 times as large as best loss (3109.1734)\n",
            "162/255 [==================>...........] - ETA: 6s - loss: 844702.1875 - accuracy: 0.0904 - LRFinder: Skipping iteration since loss is 4 times as large as best loss (3109.1734)\n",
            "163/255 [==================>...........] - ETA: 6s - loss: 726617.2500 - accuracy: 0.1038 - LRFinder: Skipping iteration since loss is 4 times as large as best loss (3109.1734)\n",
            "164/255 [==================>...........] - ETA: 6s - loss: 661560.6875 - accuracy: 0.0869 - LRFinder: Skipping iteration since loss is 4 times as large as best loss (3109.1734)\n",
            "165/255 [==================>...........] - ETA: 6s - loss: 441060.0625 - accuracy: 0.1095 - LRFinder: Skipping iteration since loss is 4 times as large as best loss (3109.1734)\n",
            "166/255 [==================>...........] - ETA: 6s - loss: 368645.0000 - accuracy: 0.0904 - LRFinder: Skipping iteration since loss is 4 times as large as best loss (3109.1734)\n",
            "167/255 [==================>...........] - ETA: 6s - loss: 422866.2500 - accuracy: 0.0904 - LRFinder: Skipping iteration since loss is 4 times as large as best loss (3109.1734)\n",
            "168/255 [==================>...........] - ETA: 6s - loss: 479006.7812 - accuracy: 0.0777 - LRFinder: Skipping iteration since loss is 4 times as large as best loss (3109.1734)\n",
            "169/255 [==================>...........] - ETA: 6s - loss: 521463.4062 - accuracy: 0.0897 - LRFinder: Skipping iteration since loss is 4 times as large as best loss (3109.1734)\n",
            "170/255 [===================>..........] - ETA: 6s - loss: 572949.4375 - accuracy: 0.0946 - LRFinder: Skipping iteration since loss is 4 times as large as best loss (3109.1734)\n",
            "171/255 [===================>..........] - ETA: 6s - loss: 708468.3750 - accuracy: 0.0939 - LRFinder: Skipping iteration since loss is 4 times as large as best loss (3109.1734)\n",
            "172/255 [===================>..........] - ETA: 6s - loss: 587243.7500 - accuracy: 0.0996 - LRFinder: Skipping iteration since loss is 4 times as large as best loss (3109.1734)\n",
            "173/255 [===================>..........] - ETA: 6s - loss: 466589.3438 - accuracy: 0.1095 - LRFinder: Skipping iteration since loss is 4 times as large as best loss (3109.1734)\n",
            "174/255 [===================>..........] - ETA: 5s - loss: 442889.8125 - accuracy: 0.0975 - LRFinder: Skipping iteration since loss is 4 times as large as best loss (3109.1734)\n",
            "175/255 [===================>..........] - ETA: 5s - loss: 505129.2188 - accuracy: 0.0982 - LRFinder: Skipping iteration since loss is 4 times as large as best loss (3109.1734)\n",
            "176/255 [===================>..........] - ETA: 5s - loss: 408574.0938 - accuracy: 0.1116 - LRFinder: Skipping iteration since loss is 4 times as large as best loss (3109.1734)\n",
            "177/255 [===================>..........] - ETA: 5s - loss: 418784.9062 - accuracy: 0.1024 - LRFinder: Skipping iteration since loss is 4 times as large as best loss (3109.1734)\n",
            "178/255 [===================>..........] - ETA: 5s - loss: 409246.8125 - accuracy: 0.1059 - LRFinder: Skipping iteration since loss is 4 times as large as best loss (3109.1734)\n",
            "179/255 [====================>.........] - ETA: 5s - loss: 538099.1875 - accuracy: 0.0904 - LRFinder: Skipping iteration since loss is 4 times as large as best loss (3109.1734)\n",
            "180/255 [====================>.........] - ETA: 5s - loss: 422750.7500 - accuracy: 0.0876 - LRFinder: Skipping iteration since loss is 4 times as large as best loss (3109.1734)\n",
            "181/255 [====================>.........] - ETA: 5s - loss: 479184.7188 - accuracy: 0.1010 - LRFinder: Skipping iteration since loss is 4 times as large as best loss (3109.1734)\n",
            "182/255 [====================>.........] - ETA: 5s - loss: 642414.6250 - accuracy: 0.0989 - LRFinder: Skipping iteration since loss is 4 times as large as best loss (3109.1734)\n",
            "183/255 [====================>.........] - ETA: 5s - loss: 544882.0625 - accuracy: 0.0996 - LRFinder: Skipping iteration since loss is 4 times as large as best loss (3109.1734)\n",
            "184/255 [====================>.........] - ETA: 5s - loss: 374510.7188 - accuracy: 0.1003 - LRFinder: Skipping iteration since loss is 4 times as large as best loss (3109.1734)\n",
            "185/255 [====================>.........] - ETA: 5s - loss: 425820.5312 - accuracy: 0.1137 - LRFinder: Skipping iteration since loss is 4 times as large as best loss (3109.1734)\n",
            "186/255 [====================>.........] - ETA: 5s - loss: 472262.2500 - accuracy: 0.0982 - LRFinder: Skipping iteration since loss is 4 times as large as best loss (3109.1734)\n",
            "187/255 [=====================>........] - ETA: 4s - loss: 332955.1875 - accuracy: 0.0883 - LRFinder: Skipping iteration since loss is 4 times as large as best loss (3109.1734)\n",
            "188/255 [=====================>........] - ETA: 4s - loss: 330826.1250 - accuracy: 0.0989 - LRFinder: Skipping iteration since loss is 4 times as large as best loss (3109.1734)\n",
            "189/255 [=====================>........] - ETA: 4s - loss: 309021.6875 - accuracy: 0.0960 - LRFinder: Skipping iteration since loss is 4 times as large as best loss (3109.1734)\n",
            "190/255 [=====================>........] - ETA: 4s - loss: 394840.3750 - accuracy: 0.0953 - LRFinder: Skipping iteration since loss is 4 times as large as best loss (3109.1734)\n",
            "191/255 [=====================>........] - ETA: 4s - loss: 446689.0000 - accuracy: 0.0925 - LRFinder: Skipping iteration since loss is 4 times as large as best loss (3109.1734)\n",
            "192/255 [=====================>........] - ETA: 4s - loss: 605433.5625 - accuracy: 0.0897 - LRFinder: Skipping iteration since loss is 4 times as large as best loss (3109.1734)\n",
            "193/255 [=====================>........] - ETA: 4s - loss: 428078.7500 - accuracy: 0.1024 - LRFinder: Skipping iteration since loss is 4 times as large as best loss (3109.1734)\n",
            "194/255 [=====================>........] - ETA: 4s - loss: 409998.5000 - accuracy: 0.1109 - LRFinder: Skipping iteration since loss is 4 times as large as best loss (3109.1734)\n",
            "195/255 [=====================>........] - ETA: 4s - loss: 304848.7500 - accuracy: 0.1003 - LRFinder: Skipping iteration since loss is 4 times as large as best loss (3109.1734)\n",
            "196/255 [======================>.......] - ETA: 4s - loss: 385946.5625 - accuracy: 0.1024 - LRFinder: Skipping iteration since loss is 4 times as large as best loss (3109.1734)\n",
            "197/255 [======================>.......] - ETA: 4s - loss: 387148.2812 - accuracy: 0.1066 - LRFinder: Skipping iteration since loss is 4 times as large as best loss (3109.1734)\n",
            "198/255 [======================>.......] - ETA: 4s - loss: 384972.3438 - accuracy: 0.0862 - LRFinder: Skipping iteration since loss is 4 times as large as best loss (3109.1734)\n",
            "199/255 [======================>.......] - ETA: 4s - loss: 424620.0625 - accuracy: 0.0855 - LRFinder: Skipping iteration since loss is 4 times as large as best loss (3109.1734)\n",
            "200/255 [======================>.......] - ETA: 4s - loss: 567266.1875 - accuracy: 0.0897 - LRFinder: Skipping iteration since loss is 4 times as large as best loss (3109.1734)\n",
            "201/255 [======================>.......] - ETA: 3s - loss: 620980.8750 - accuracy: 0.1073 - LRFinder: Skipping iteration since loss is 4 times as large as best loss (3109.1734)\n",
            "202/255 [======================>.......] - ETA: 3s - loss: 529533.2500 - accuracy: 0.0904 - LRFinder: Skipping iteration since loss is 4 times as large as best loss (3109.1734)\n",
            "203/255 [======================>.......] - ETA: 3s - loss: 355504.3750 - accuracy: 0.1081 - LRFinder: Skipping iteration since loss is 4 times as large as best loss (3109.1734)\n",
            "204/255 [=======================>......] - ETA: 3s - loss: 466786.8125 - accuracy: 0.1215 - LRFinder: Skipping iteration since loss is 4 times as large as best loss (3109.1734)\n",
            "205/255 [=======================>......] - ETA: 3s - loss: 402742.2812 - accuracy: 0.1031 - LRFinder: Skipping iteration since loss is 4 times as large as best loss (3109.1734)\n",
            "206/255 [=======================>......] - ETA: 3s - loss: 541507.5000 - accuracy: 0.1088 - LRFinder: Skipping iteration since loss is 4 times as large as best loss (3109.1734)\n",
            "207/255 [=======================>......] - ETA: 3s - loss: 575705.0625 - accuracy: 0.1031 - LRFinder: Skipping iteration since loss is 4 times as large as best loss (3109.1734)\n",
            "208/255 [=======================>......] - ETA: 3s - loss: 434224.0312 - accuracy: 0.1073 - LRFinder: Skipping iteration since loss is 4 times as large as best loss (3109.1734)\n",
            "209/255 [=======================>......] - ETA: 3s - loss: 463946.7500 - accuracy: 0.0869 - LRFinder: Skipping iteration since loss is 4 times as large as best loss (3109.1734)\n",
            "210/255 [=======================>......] - ETA: 3s - loss: 345824.6875 - accuracy: 0.0989 - LRFinder: Skipping iteration since loss is 4 times as large as best loss (3109.1734)\n",
            "211/255 [=======================>......] - ETA: 3s - loss: 457283.2188 - accuracy: 0.1003 - LRFinder: Skipping iteration since loss is 4 times as large as best loss (3109.1734)\n",
            "212/255 [=======================>......] - ETA: 3s - loss: 323115.7188 - accuracy: 0.1038 - LRFinder: Skipping iteration since loss is 4 times as large as best loss (3109.1734)\n",
            "213/255 [========================>.....] - ETA: 3s - loss: 258822.6875 - accuracy: 0.0960 - LRFinder: Skipping iteration since loss is 4 times as large as best loss (3109.1734)\n",
            "214/255 [========================>.....] - ETA: 3s - loss: 397302.4062 - accuracy: 0.1045 - LRFinder: Skipping iteration since loss is 4 times as large as best loss (3109.1734)\n",
            "215/255 [========================>.....] - ETA: 2s - loss: 476971.9375 - accuracy: 0.0968 - LRFinder: Skipping iteration since loss is 4 times as large as best loss (3109.1734)\n",
            "216/255 [========================>.....] - ETA: 2s - loss: 325737.3125 - accuracy: 0.0989 - LRFinder: Skipping iteration since loss is 4 times as large as best loss (3109.1734)\n",
            "217/255 [========================>.....] - ETA: 2s - loss: 366339.6250 - accuracy: 0.0925 - LRFinder: Skipping iteration since loss is 4 times as large as best loss (3109.1734)\n",
            "218/255 [========================>.....] - ETA: 2s - loss: 332788.1250 - accuracy: 0.0975 - LRFinder: Skipping iteration since loss is 4 times as large as best loss (3109.1734)\n",
            "219/255 [========================>.....] - ETA: 2s - loss: 328809.0625 - accuracy: 0.0855 - LRFinder: Skipping iteration since loss is 4 times as large as best loss (3109.1734)\n",
            "220/255 [========================>.....] - ETA: 2s - loss: 455824.0938 - accuracy: 0.1010 - LRFinder: Skipping iteration since loss is 4 times as large as best loss (3109.1734)\n",
            "221/255 [=========================>....] - ETA: 2s - loss: 489887.4688 - accuracy: 0.1201 - LRFinder: Skipping iteration since loss is 4 times as large as best loss (3109.1734)\n",
            "222/255 [=========================>....] - ETA: 2s - loss: 540578.5000 - accuracy: 0.1102 - LRFinder: Skipping iteration since loss is 4 times as large as best loss (3109.1734)\n",
            "223/255 [=========================>....] - ETA: 2s - loss: 621400.8750 - accuracy: 0.1003 - LRFinder: Skipping iteration since loss is 4 times as large as best loss (3109.1734)\n",
            "224/255 [=========================>....] - ETA: 2s - loss: 584836.1250 - accuracy: 0.1088 - LRFinder: Skipping iteration since loss is 4 times as large as best loss (3109.1734)\n",
            "225/255 [=========================>....] - ETA: 2s - loss: 621356.0000 - accuracy: 0.1299 - LRFinder: Skipping iteration since loss is 4 times as large as best loss (3109.1734)\n",
            "226/255 [=========================>....] - ETA: 2s - loss: 458292.3438 - accuracy: 0.1137 - LRFinder: Skipping iteration since loss is 4 times as large as best loss (3109.1734)\n",
            "227/255 [=========================>....] - ETA: 2s - loss: 454034.9375 - accuracy: 0.0911 - LRFinder: Skipping iteration since loss is 4 times as large as best loss (3109.1734)\n",
            "228/255 [=========================>....] - ETA: 1s - loss: 357650.0000 - accuracy: 0.0953 - LRFinder: Skipping iteration since loss is 4 times as large as best loss (3109.1734)\n",
            "229/255 [=========================>....] - ETA: 1s - loss: 295895.4375 - accuracy: 0.1137 - LRFinder: Skipping iteration since loss is 4 times as large as best loss (3109.1734)\n",
            "230/255 [==========================>...] - ETA: 1s - loss: 407180.8438 - accuracy: 0.1059 - LRFinder: Skipping iteration since loss is 4 times as large as best loss (3109.1734)\n",
            "231/255 [==========================>...] - ETA: 1s - loss: 271955.7500 - accuracy: 0.0989 - LRFinder: Skipping iteration since loss is 4 times as large as best loss (3109.1734)\n",
            "232/255 [==========================>...] - ETA: 1s - loss: 379210.5000 - accuracy: 0.1017 - LRFinder: Skipping iteration since loss is 4 times as large as best loss (3109.1734)\n",
            "233/255 [==========================>...] - ETA: 1s - loss: 491158.4062 - accuracy: 0.1003 - LRFinder: Skipping iteration since loss is 4 times as large as best loss (3109.1734)\n",
            "234/255 [==========================>...] - ETA: 1s - loss: 504011.9375 - accuracy: 0.1123 - LRFinder: Skipping iteration since loss is 4 times as large as best loss (3109.1734)\n",
            "235/255 [==========================>...] - ETA: 1s - loss: 540517.6250 - accuracy: 0.1116 - LRFinder: Skipping iteration since loss is 4 times as large as best loss (3109.1734)\n",
            "236/255 [==========================>...] - ETA: 1s - loss: 453664.7812 - accuracy: 0.1010 - LRFinder: Skipping iteration since loss is 4 times as large as best loss (3109.1734)\n",
            "237/255 [==========================>...] - ETA: 1s - loss: 462195.0312 - accuracy: 0.1137 - LRFinder: Skipping iteration since loss is 4 times as large as best loss (3109.1734)\n",
            "238/255 [===========================>..] - ETA: 1s - loss: 324507.9688 - accuracy: 0.1024 - LRFinder: Skipping iteration since loss is 4 times as large as best loss (3109.1734)\n",
            "239/255 [===========================>..] - ETA: 1s - loss: 338900.6562 - accuracy: 0.0918 - LRFinder: Skipping iteration since loss is 4 times as large as best loss (3109.1734)\n",
            "240/255 [===========================>..] - ETA: 1s - loss: 394045.0625 - accuracy: 0.1095 - LRFinder: Skipping iteration since loss is 4 times as large as best loss (3109.1734)\n",
            "241/255 [===========================>..] - ETA: 1s - loss: 490871.7188 - accuracy: 0.0960 - LRFinder: Skipping iteration since loss is 4 times as large as best loss (3109.1734)\n",
            "242/255 [===========================>..] - ETA: 0s - loss: 566756.5625 - accuracy: 0.1031 - LRFinder: Skipping iteration since loss is 4 times as large as best loss (3109.1734)\n",
            "243/255 [===========================>..] - ETA: 0s - loss: 490378.5625 - accuracy: 0.1073 - LRFinder: Skipping iteration since loss is 4 times as large as best loss (3109.1734)\n",
            "244/255 [===========================>..] - ETA: 0s - loss: 607501.6250 - accuracy: 0.1003 - LRFinder: Skipping iteration since loss is 4 times as large as best loss (3109.1734)\n",
            "245/255 [===========================>..] - ETA: 0s - loss: 701685.0000 - accuracy: 0.1088 - LRFinder: Skipping iteration since loss is 4 times as large as best loss (3109.1734)\n",
            "246/255 [===========================>..] - ETA: 0s - loss: 814037.0000 - accuracy: 0.0812 - LRFinder: Skipping iteration since loss is 4 times as large as best loss (3109.1734)\n",
            "247/255 [============================>.] - ETA: 0s - loss: 620806.2500 - accuracy: 0.0862 - LRFinder: Skipping iteration since loss is 4 times as large as best loss (3109.1734)\n",
            "248/255 [============================>.] - ETA: 0s - loss: 535145.5625 - accuracy: 0.1059 - LRFinder: Skipping iteration since loss is 4 times as large as best loss (3109.1734)\n",
            "249/255 [============================>.] - ETA: 0s - loss: 538046.5625 - accuracy: 0.0989 - LRFinder: Skipping iteration since loss is 4 times as large as best loss (3109.1734)\n",
            "250/255 [============================>.] - ETA: 0s - loss: 524898.7500 - accuracy: 0.1038 - LRFinder: Skipping iteration since loss is 4 times as large as best loss (3109.1734)\n",
            "251/255 [============================>.] - ETA: 0s - loss: 531459.7500 - accuracy: 0.1172 - LRFinder: Skipping iteration since loss is 4 times as large as best loss (3109.1734)\n",
            "252/255 [============================>.] - ETA: 0s - loss: 588787.3125 - accuracy: 0.1024 - LRFinder: Skipping iteration since loss is 4 times as large as best loss (3109.1734)\n",
            "253/255 [============================>.] - ETA: 0s - loss: 409770.0312 - accuracy: 0.1073 - LRFinder: Skipping iteration since loss is 4 times as large as best loss (3109.1734)\n",
            "254/255 [============================>.] - ETA: 0s - loss: 492750.5000 - accuracy: 0.0953 - LRFinder: Skipping iteration since loss is 4 times as large as best loss (3109.1734)\n",
            "255/255 [==============================] - ETA: 0s - loss: 696622.5000 - accuracy: 0.1019 - LRFinder: Skipping iteration since loss is 4 times as large as best loss (3109.1734)\n",
            "255/255 [==============================] - 19s 74ms/step - loss: 696622.5000 - accuracy: 0.1019\n"
          ],
          "name": "stdout"
        },
        {
          "output_type": "execute_result",
          "data": {
            "text/plain": [
              "<tensorflow.python.keras.callbacks.History at 0x7fbe355b9390>"
            ]
          },
          "metadata": {
            "tags": []
          },
          "execution_count": 231
        }
      ]
    },
    {
      "cell_type": "code",
      "metadata": {
        "colab": {
          "base_uri": "https://localhost:8080/"
        },
        "id": "vzPu4OmAxwF7",
        "outputId": "b2e23861-7513-4910-9390-411840449ec3"
      },
      "source": [
        "lr_callback.history.keys()\n"
      ],
      "execution_count": null,
      "outputs": [
        {
          "output_type": "execute_result",
          "data": {
            "text/plain": [
              "dict_keys(['running_loss_', 'log_lrs', 'loss', 'accuracy'])"
            ]
          },
          "metadata": {
            "tags": []
          },
          "execution_count": 232
        }
      ]
    },
    {
      "cell_type": "code",
      "metadata": {
        "id": "jzikoocIdvcU",
        "colab": {
          "base_uri": "https://localhost:8080/",
          "height": 325
        },
        "outputId": "23cdf4fc-2edf-4973-b4f2-65a27777b30c"
      },
      "source": [
        "#plot the lr vs loss and find the best of LR\n",
        "lr_callback.plot_schedule()\n",
        "max_lr = lr_callback.final_lr # from history of model!\n",
        "print(max_lr)\n",
        "print(model.optimizer.lr.numpy())"
      ],
      "execution_count": null,
      "outputs": [
        {
          "output_type": "display_data",
          "data": {
            "image/png": "[encoded data removed]",
            "text/plain": [
              "<Figure size 432x288 with 1 Axes>"
            ]
          },
          "metadata": {
            "tags": []
          }
        },
        {
          "output_type": "stream",
          "text": [
            "30\n",
            "51961.523\n"
          ],
          "name": "stdout"
        }
      ]
    },
    {
      "cell_type": "markdown",
      "metadata": {
        "id": "Qkziq5V9pXMN"
      },
      "source": [
        "#Task5\n",
        "##One Cycle LR"
      ]
    },
    {
      "cell_type": "markdown",
      "metadata": {
        "id": "sT1F8canjnnJ"
      },
      "source": [
        "After the LRFinding we try to use One Cycle LR which is a predefenied function in this case from [github](https://github.com/titu1994/keras-one-cycle/blob/master/clr.py). In this step we use the previous result (maximum lr) like maximum learning rate in OneCycleLR."
      ]
    },
    {
      "cell_type": "code",
      "metadata": {
        "id": "aTPethDPplW2"
      },
      "source": [
        "from clr import OneCycleLR"
      ],
      "execution_count": null,
      "outputs": []
    },
    {
      "cell_type": "code",
      "metadata": {
        "id": "vrI-Uu8K3y6d"
      },
      "source": [
        "num_samples = 10000 # samples equal 10k\n",
        "batch_size = 236 # like in the base model\n",
        "\n",
        "lr_manager = OneCycleLR(num_samples=num_samples,\n",
        "                        batch_size=batch_size,\n",
        "                        max_lr=max_lr,\n",
        "                        end_percentage=0.1,) #add 0.1 to end_percentage"
      ],
      "execution_count": null,
      "outputs": []
    },
    {
      "cell_type": "code",
      "metadata": {
        "id": "AdEdeDI435qM",
        "colab": {
          "base_uri": "https://localhost:8080/"
        },
        "outputId": "c19b5831-8005-4691-bd8d-35b551b3685c"
      },
      "source": [
        "#use the lr_manager like callbacks\n",
        "#add the train set again and fit the new model\n",
        "\n",
        "model.fit( x_train, y_train, epochs=1, batch_size=batch_size, callbacks = [lr_manager])"
      ],
      "execution_count": null,
      "outputs": [
        {
          "output_type": "stream",
          "text": [
            "255/255 [==============================] - 1s 6ms/step - loss: 33068.4805 - accuracy: 0.0942\n",
            " - lr: 0.04667 - momentum: 0.95 \n"
          ],
          "name": "stdout"
        },
        {
          "output_type": "execute_result",
          "data": {
            "text/plain": [
              "<tensorflow.python.keras.callbacks.History at 0x7fbe3a48a110>"
            ]
          },
          "metadata": {
            "tags": []
          },
          "execution_count": 213
        }
      ]
    },
    {
      "cell_type": "code",
      "metadata": {
        "id": "6fqF2nEF4cXD",
        "colab": {
          "base_uri": "https://localhost:8080/",
          "height": 599
        },
        "outputId": "92ae9b67-d396-407b-84af-1d259ff70f34"
      },
      "source": [
        "#Plot the learning rate and momentum of one cycle LR\n",
        "\n",
        "print(\"LR Range : \", min(lr_manager.history['lr']), max(lr_manager.history['lr']))\n",
        "print(\"Momentum Range : \", min(lr_manager.history['momentum']), max(lr_manager.history['momentum']))\n",
        "\n",
        "\n",
        "plt.xlabel('Training Iterations')\n",
        "plt.ylabel('Learning Rate')\n",
        "plt.title(\"CLR\")\n",
        "plt.plot(lr_manager.history['lr']) # learning rate\n",
        "plt.show()\n",
        "\n",
        "plt.xlabel('Training Iterations')\n",
        "plt.ylabel('Momentum')\n",
        "plt.title(\"CLR\")\n",
        "plt.plot(lr_manager.history['momentum']) # momentum\n",
        "plt.show()"
      ],
      "execution_count": null,
      "outputs": [
        {
          "output_type": "stream",
          "text": [
            "LR Range :  0.046666667 10.0\n",
            "Momentum Range :  0.85 0.95\n"
          ],
          "name": "stdout"
        },
        {
          "output_type": "display_data",
          "data": {
            "image/png": "[encoded data removed]",
            "text/plain": [
              "<Figure size 432x288 with 1 Axes>"
            ]
          },
          "metadata": {
            "tags": []
          }
        },
        {
          "output_type": "display_data",
          "data": {
            "image/png": "[encoded data removed]",
            "text/plain": [
              "<Figure size 432x288 with 1 Axes>"
            ]
          },
          "metadata": {
            "tags": []
          }
        }
      ]
    }
  ]
}