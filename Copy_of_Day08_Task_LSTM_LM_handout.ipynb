{
  "nbformat": 4,
  "nbformat_minor": 0,
  "metadata": {
    "accelerator": "GPU",
    "colab": {
      "name": "Copy of Day08-Task-LSTM_LM_handout.ipynb",
      "provenance": [],
      "collapsed_sections": [],
      "include_colab_link": true
    },
    "kernelspec": {
      "display_name": "Python 3",
      "language": "python",
      "name": "python3"
    },
    "language_info": {
      "codemirror_mode": {
        "name": "ipython",
        "version": 3
      },
      "file_extension": ".py",
      "mimetype": "text/x-python",
      "name": "python",
      "nbconvert_exporter": "python",
      "pygments_lexer": "ipython3",
      "version": "3.7.9"
    },
    "toc": {
      "base_numbering": 1,
      "nav_menu": {},
      "number_sections": true,
      "sideBar": true,
      "skip_h1_title": false,
      "title_cell": "Table of Contents",
      "title_sidebar": "Contents",
      "toc_cell": false,
      "toc_position": {},
      "toc_section_display": true,
      "toc_window_display": false
    },
    "varInspector": {
      "cols": {
        "lenName": 16,
        "lenType": 16,
        "lenVar": 40
      },
      "kernels_config": {
        "python": {
          "delete_cmd_postfix": "",
          "delete_cmd_prefix": "del ",
          "library": "var_list.py",
          "varRefreshCmd": "print(var_dic_list())"
        },
        "r": {
          "delete_cmd_postfix": ") ",
          "delete_cmd_prefix": "rm(",
          "library": "var_list.r",
          "varRefreshCmd": "cat(var_dic_list()) "
        }
      },
      "types_to_exclude": [
        "module",
        "function",
        "builtin_function_or_method",
        "instance",
        "_Feature"
      ],
      "window_display": false
    }
  },
  "cells": [
    {
      "cell_type": "markdown",
      "metadata": {
        "id": "view-in-github",
        "colab_type": "text"
      },
      "source": [
        "<a href=\"https://colab.research.google.com/github/tszabad/deep_learning/blob/main/Copy_of_Day08_Task_LSTM_LM_handout.ipynb\" target=\"_parent\"><img src=\"https://colab.research.google.com/assets/colab-badge.svg\" alt=\"Open In Colab\"/></a>"
      ]
    },
    {
      "cell_type": "markdown",
      "metadata": {
        "id": "1LpjNSceR85m"
      },
      "source": [
        "# LSTM in practice -- NLP\n",
        "\n",
        "## Language modeling\n",
        "\n",
        "A language model is a probability distribution over the sequence of words, modeling language (production), thus if the set of words is $w$, then for arbitrary $\\mathbf w = \\langle w_1,\\dots, w_n\\rangle$ ($w_i\\in W$) sequence it defines a $P(\\mathbf w)$ probability. \n",
        "\n",
        "Probability with chain rule:\n",
        "\n",
        "$$P(\\mathbf w)= P(w_1)\\cdot P(w_2 \\vert w_1 )\\cdot P(w_3\\vert w_1, w_2)\\cdot\\dots\\cdot P(w_n\\vert w_1,\\dots, w_{n-1})$$\n",
        "\n",
        "so this means, that for the modeling we need only to give the conditional probability of the \"continuation\", the next word, thus for $w$ word and $\\langle w_1,\\dots,w_n\\rangle$ sequence the probability that the next word will be $w$\n",
        "\n",
        "$$P(w ~\\vert ~ w_1,\\dots,w_n)$$\n",
        "\n",
        "There are character based models also, which take the individual characters as units, not the words, and model language as a distribution over sequences of characters (think T9...)"
      ]
    },
    {
      "cell_type": "markdown",
      "metadata": {
        "id": "moYnnb1-jKT4"
      },
      "source": [
        "### Measurement of performance: Perplexity\n",
        "\n",
        "A language model $\\mathcal M$'s perplexity over the word series $\\mathbf w = \\langle w_1,\\dots, w_n\\rangle$ is:\n",
        "\n",
        "$$\\mathbf{PP}_{\\mathcal M}(\\mathbf w) = \\sqrt[n]{\\frac{1}{P_{\\mathcal M}(\\mathbf w)}}$$\n",
        "\n",
        "With the chain rule can be rewritten as:\n",
        "\n",
        "$$\\mathbf{PP}_{\\mathcal M}(\\mathbf w) = {\\sqrt[n]{\\frac{1}{P_{\\mathcal M}(w_1)}\\cdot \\frac{1}{P_{\\mathcal M}(w_2 \\vert w_1 )}\\cdot \\frac{1}{P_{\\mathcal M}(w_3\\vert w_1, w_2)}\\cdot\\dots\\cdot \\frac{1}{P_{\\mathcal M}(w_n\\vert w_1,\\dots, w_{n-1})}}}$$\n",
        "\n",
        "which is exactly the geometric mean of the reciprocals of the conditional probabilities of all words in the corpus.\n",
        "\n",
        "In case of a bigram model this is further simplified to:\n",
        "$$\\mathbf{PP}_{\\mathcal M}(\\mathbf w) = \\sqrt[n]{\\frac{1}{P_{\\mathcal M}(w_1)}\\cdot \\frac{1}{P_{\\mathcal M}(w_2 \\vert w_1 )}\\cdot \\frac{1}{P_{\\mathcal M}(w_3\\vert w_2)}\\cdot\\dots\\cdot \\frac{1}{P_{\\mathcal M}(w_n\\vert w_{n-1})}}$$\n",
        "\n",
        "\n",
        "### But what is it good for?\n",
        "For example:\n",
        "- Predictive text input (\"autocomplete\")\n",
        "- Generating text\n",
        "- Spell checking\n",
        "- Language understanding\n",
        "- And most importantly representation learning - this we will be studiying in detail in a next lecture"
      ]
    },
    {
      "cell_type": "markdown",
      "metadata": {
        "id": "Fn4iPehcyda2"
      },
      "source": [
        "### Generating text with a language model\n",
        "\n",
        "The language model produces a tree with probable continuations of the text:\n",
        "\n",
        "<img src=\"https://4.bp.blogspot.com/-Jjpb7iyB37A/WBZI4ImGQII/AAAAAAAAA9s/ululnUWt2vw9NMKuEr-F9H8tR2LEv36lACLcB/s1600/prefix_probability_tree.png\" width=400 heigth=400>\n",
        "\n",
        "Using this tree we can try different algorithms to search for the best \"continuations\". A full breadth-first search oi usually impossible, due to the high branching factor of the tree.\n",
        "\n",
        "Alternatives:\n",
        "- \"Greedy\": we choose the continuation which has the highest direct probability, This will most probably be suboptimal, since the probability of the full sequence is the product of the continuations, and if we would have chosen a different path, we might have been able to choose later words with high probabilities.\n",
        "- Beam-search: we always store a fixed $k$ number of partial sequences, and we always try to expand these, always keeping the most probable $k$ from the possible continuations. \n",
        "\n",
        "Example ($k$=5):\n",
        "\n",
        "<img src=\"http://opennmt.net/OpenNMT/img/beam_search.png\" width=600 heigth=600>\n",
        " "
      ]
    },
    {
      "cell_type": "markdown",
      "metadata": {
        "id": "pO8BuLsDWWAE"
      },
      "source": [
        "### The \"old way\": N-gram based solutions\n",
        "\n",
        "With _gross_ simplification we assume, that the distribution is only dependent on the prior $n-1$ words (where $n$ is typically $<=4$), thus we assume a Markov chain of the order $n$:\n",
        "\n",
        " $$P(w ~\\vert ~ w_1,\\dots,w_k) = P(w ~\\vert ~ w_{k- n + 2},\\dots,w_k)$$\n",
        "\n",
        "We simply compute these probabilities in a frequentist style by calculating the $n$-gram statistics of the corpus at hand:\n",
        "\n",
        "$$P(w_2 ~\\vert ~w_1) = \\frac{c(\\langle w_1, w_2 \\rangle)}{c(w_1)}$$\n",
        "\n",
        "$$P(w_{k+1} \\vert~ w_1,\\dots,w_k)_\\mathrm = \\frac{c(\\langle w_1,...,w_k, w_{k+1} \\rangle)}{c(\\langle w_1, \\dots w_k\\rangle)}$$\n",
        "\n",
        "Please note, that in this case we are using \"memorization\", a form of database learning, with minimal compression - \"counting\".\n",
        "\n",
        "But what do we do the given $n$-grams rarely or never occur? We have to employ some __smoothing__ solutions, like: \n",
        "\n",
        "##### Additive smoothing\n",
        "We pretend that we have seen the $n$-grams more times than we have actually did with a fixed $\\delta$ number, in the simplest case with $n=2$:\n",
        "\n",
        "$$P(w_2 ~\\vert ~w_1) = \\frac{c(\\langle w_1, w_2 \\rangle) + \\delta}{\\sum_{w\\in V} [c(\\langle w_1, w\\rangle) + \\delta]}$$\n",
        "\n",
        "Widespread solution for $\\delta$ is $1$.\n",
        "\n",
        "The main problem with this kind of smoothing is that it does not take into account by \"supplementing\" the data the frequency of components of shorter $n$-grams, eg. if neither $\\langle w_1, w_2 \\rangle$  nor $\\langle w_1, w_3 \\rangle$ occurs in the corpus, it assumes the frequency of both bigrams to be $\\delta$, irrespective of the ratio of frequencies of $w_2$ and $w_3$.\n",
        "Most smoothing techniques are trying to accomodate this, eg: simple interpolation:\n",
        "\n",
        "##### Interpolatcion\n",
        "\n",
        "In case of bigrams, we add - with a certain weight - the probabilities coming from the individual frequencies:\n",
        "\n",
        "$$P(w_2 ~\\vert ~w_1)_{\\mathrm{interp}} = \\lambda_1\\frac{c(\\langle w_1, w_2 \\rangle)}{c(w_1)} + (1 - \\lambda_1)\\frac{c(w_1)}{\\sum_{w\\in V}c(w)}$$\n",
        "\n",
        "Recursive solution for arbitrary $k$:\n",
        "\n",
        "$$P(w_{k+1} \\vert~ w_1,\\dots,w_k)_\\mathrm{interp} = \\lambda_k\\frac{c(\\langle w_1,...,w_k, w_{k+1} \\rangle)}{c(\\langle w_1, \\dots w_k\\rangle)} + (1-\\lambda_k)P_\\mathrm{interp}(\\langle w_2,\\dots,w_{k+1}\\rangle)$$\n",
        "\n",
        "$\\lambda_k$ is empirically set by examining the corpus, typically by [Expectation Maximization algorithm](https://en.wikipedia.org/wiki/Expectation%E2%80%93maximization_algorithm), which - as we have mentioned - iteratively tunes the parameters to maximize the likelihood.\n",
        "\n",
        "\n",
        "Good overview about the smoothing methods: [MacCartney, NLP Lunch Tutorial: Smoothing](https://nlp.stanford.edu/~wcmac/papers/20050421-smoothing-tutorial.pdf)\n",
        "\n",
        " \n",
        "#### General problems\n",
        "\n",
        "- Even the core assumption is not too realistic, since the probabilities are for sure influenced in a way by words further than $n$, but for practical reasons, it has to be limited (sparsity, computation capacity).\n",
        "- On a large enough corpus, the memory footprint of the $n$-gram models is _huge_, eg. for the 1T n-gram corpus of Google ([see here](https://catalog.ldc.upenn.edu/LDC2006T13)) containing 1,024,908,267,229 tokens the $n$-gram counts are as follows:\n",
        "    - unigram: 13,588,391, \n",
        "    - bigram: 314,843,401, \n",
        "    - trigram: 977,069,902, \n",
        "    - fourgrams: 1,313,818,354 \n",
        "    - fivegram: 1,176,470,663."
      ]
    },
    {
      "cell_type": "markdown",
      "metadata": {
        "id": "DgLdc8JQrH-4"
      },
      "source": [
        "## Language modeling with LSTMs\n",
        "\n",
        "One way to circumvent the Markov assumption is to use RNN-s, which are capable of modeling the long-ter dependencies inside the sequence of words. The text is thus considered to be a time-series, and thus an appropriate architecture can be used (as we have already seen):\n",
        "\n",
        "<img src=\"http://drive.google.com/uc?export=view&id=1y8QYr9ftTvXAxgzS-ldnGlijVpmK2l21\" width=600 heigth=600>\n",
        "\n"
      ]
    },
    {
      "cell_type": "markdown",
      "metadata": {
        "id": "YHVR_jd62LHI"
      },
      "source": [
        "Notable features:\n",
        "\n",
        "- Input is a \"one-hot\" encoded vector, wchic we on the spot transform into an \"embedding vector\"\n",
        "- For each output step, we get a probability distribution over the whole vocabulary with softmax\n",
        "- This above is a simple RNN, but LSTMs can be used without any problems"
      ]
    },
    {
      "cell_type": "markdown",
      "metadata": {
        "id": "wqQY-P9XP6Ro"
      },
      "source": [
        "### Teaching\n",
        "\n",
        "_In theory_ an RNN could be trained with full GD on the corpus in one go:\n",
        "\n",
        "<img src=\"http://drive.google.com/uc?export=view&id=1XsBoRp7cNay3svFLRDv2JEDyC7m7CUdC\" width=600 heigth=600>\n"
      ]
    },
    {
      "cell_type": "markdown",
      "metadata": {
        "id": "lXIBEAhM8dzU"
      },
      "source": [
        "- The loss is generally the well-kown crossentropy, which is in this case (since the input is a one-hot vector):\n",
        "  $$J^{(i)}(\\Theta) = -\\log (\\hat y[x^{(i+1)}])$$\n",
        "  the negative logarithm of the probability assigned by the network to the right word / next word.\n",
        "\n",
        "- For the sake of more frequent updates, and since BPTT for long sequences is very expensive, teaching is done in smaller units with not necessarily the same length.\n",
        "- The unit is typically one or more sentece, or if the length allows, and we have enough material, a paragraph can be a good candidate.\n",
        "- Initial state in case of the time-series units: if the boundaries are inside a unit of text, it is important to _transfer the hidden state_ from the previous unit, in other cases initialization can be done by some fixed value.\n",
        "- (Somewhat misleading) terminology: the length of the \"time\" unit is _time step_, but sometimes certain implementations call it _minibatch_, though that would generally mean the number of units processed in one go for the sake of computaitonal efficiency.\n"
      ]
    },
    {
      "cell_type": "markdown",
      "metadata": {
        "id": "R8IYutdnW_SG"
      },
      "source": [
        "### LSTM as layers\n",
        "\n",
        "+ An LSTM - how ever strange that may sound - can be considered to be a complete layer. The most important parameter of it is the \"number of (memory) units\", which is the length of the hidden state vector, thus, the memory capacity. **Warning: this does not have any relationship to input size, thus can be considered a freely chosen parameter.**\n",
        "+ It is quite widespread to use multiple LSTM layers (\"stacked LSTMs\") -- as in the case of ConvNets the hope is, that the layers learn a hierarchy of abstract representations:\n",
        "\n",
        "<img src=\"http://wenchenli.github.io/assets/img/GNMT_residual.png\" width=60%>\n",
        "\n",
        "(on the right side a network is shown with skip/residual connections!)\n",
        "\n",
        "In this case it makes sense, that we do not only get on top of the LSTM a final prediction $h$ (or even prediction + inner state vector $c$) for a sequence, but **we ask it to output the whole sequence of predictions**, so that the next layer can also operate on full sequences. Please bear this in mind during implementation, since this can be a common source of failure.  \n",
        "\n"
      ]
    },
    {
      "cell_type": "markdown",
      "metadata": {
        "id": "3R04Si0M8KzK"
      },
      "source": [
        "## An LSTM language model in Keras\n",
        "\n",
        "For this task the inspiration comes from the famous [reference work of Andrej Karpathy](https://karpathy.github.io/2015/05/21/rnn-effectiveness/). \n",
        "\n",
        "Note, that in this case we will not use regularization, since we are willing to overfit - for the sake of play with the text. This is now an \"overfitting competition\", so _not_ a generally good practice!\n",
        "\n",
        "## Reader"
      ]
    },
    {
      "cell_type": "code",
      "metadata": {
        "colab": {
          "base_uri": "https://localhost:8080/"
        },
        "id": "egfH6gkf8WQg",
        "outputId": "67e6995f-0f68-4305-dbc9-adb1b605223d"
      },
      "source": [
        "import numpy as np\n",
        "import tensorflow as tf\n",
        "import nltk\n",
        "\n",
        "from numpy.random import seed\n",
        "seed(1212)\n",
        "\n",
        "tf.random.set_seed(1234)\n",
        "\n",
        "nltk.download(\"brown\")\n",
        "\n",
        "from nltk.corpus import brown\n",
        "\n",
        "# This can be an important parameter, so be aware of it...\n",
        "max_seq_length = 15\n",
        "#max_num_of_sents = 57200\n",
        "max_num_of_sents = 50 # How many sentences should we read from the corpus (max=57200)\n",
        "\n",
        "def generate_brown_word_to_id_map():\n",
        "    \"\"\"Return a dictionary mapping downcased Brown-words to their ids.\n",
        "    Numbering starts from 1 since we use 0 for masking (!!!).\n",
        "    \"\"\"\n",
        "    words = set()\n",
        "    for word in brown.words():\n",
        "        words.add(word.lower())\n",
        "    return {word: idx + 1 for idx, word in enumerate(sorted(words))}\n",
        "\n",
        "\n",
        "class BrownReader:\n",
        "    \"\"\"A reader class for the Brown corpus.\n",
        "    \"\"\"\n",
        "\n",
        "    def __init__(self):\n",
        "        self.word_to_id_map = generate_brown_word_to_id_map()\n",
        "        self.id_to_word_map = {idx: word for word, idx in self.word_to_id_map.items()}\n",
        "\n",
        "    def n_words(self):\n",
        "        return len(self.word_to_id_map)\n",
        "\n",
        "    def sentence_to_ids(self, sentence):\n",
        "        \"\"\"Return the word ids of a sentence.\n",
        "        \"\"\"\n",
        "        return [self.word_to_id_map[word.lower()] for word in sentence]\n",
        "        \n",
        "    def sentences(self):\n",
        "        \"\"\"Generator yielding features from the Brown corpus.\n",
        "        \"\"\"\n",
        "        return (self.sentence_to_ids(sentence) for sentence in brown.sents())\n",
        "\n",
        "    def sentence_matrixes(self):\n",
        "        x = np.zeros((max_num_of_sents, max_seq_length-1))\n",
        "        y = np.zeros((max_num_of_sents, max_seq_length-1))\n",
        "        sents = self.sentences()\n",
        "        for idx, sent in enumerate(sents):\n",
        "            if idx == max_num_of_sents:\n",
        "                break\n",
        "            np_array = np.asarray(sent)\n",
        "            length  = min(max_seq_length, len(np_array))\n",
        "            x[idx, :length - 1] = np_array[:length - 1]\n",
        "            y[idx, :length - 1] = np_array[1:length]\n",
        "        return x, y\n"
      ],
      "execution_count": null,
      "outputs": [
        {
          "output_type": "stream",
          "text": [
            "[nltk_data] Downloading package brown to /root/nltk_data...\n",
            "[nltk_data]   Package brown is already up-to-date!\n"
          ],
          "name": "stdout"
        }
      ]
    },
    {
      "cell_type": "markdown",
      "metadata": {
        "id": "pvjdF2_p9_YV"
      },
      "source": [
        "## Model"
      ]
    },
    {
      "cell_type": "markdown",
      "metadata": {
        "id": "SavNwc5m9_Ya"
      },
      "source": [
        "### Parameters"
      ]
    },
    {
      "cell_type": "code",
      "metadata": {
        "collapsed": true,
        "id": "CXHNzCXj9_Ye"
      },
      "source": [
        "br = BrownReader()\n",
        "n_words = br.n_words()\n",
        "\n",
        "max_input_length = max_seq_length - 1 # since our x/y input does not contain the last/first element of the sentences"
      ],
      "execution_count": null,
      "outputs": []
    },
    {
      "cell_type": "code",
      "metadata": {
        "collapsed": true,
        "id": "JkhDDIwl9_ZC"
      },
      "source": [
        "data_x, data_y = br.sentence_matrixes()"
      ],
      "execution_count": null,
      "outputs": []
    },
    {
      "cell_type": "code",
      "metadata": {
        "colab": {
          "base_uri": "https://localhost:8080/"
        },
        "id": "cE07xgHGy0se",
        "outputId": "22925dfe-e268-409b-8568-5de0c2900e00"
      },
      "source": [
        "max_input_length"
      ],
      "execution_count": null,
      "outputs": [
        {
          "output_type": "execute_result",
          "data": {
            "text/plain": [
              "14"
            ]
          },
          "metadata": {
            "tags": []
          },
          "execution_count": 5
        }
      ]
    },
    {
      "cell_type": "code",
      "metadata": {
        "colab": {
          "base_uri": "https://localhost:8080/"
        },
        "id": "O7vMA4XD1ck-",
        "outputId": "1e95b7e5-ec5d-45bc-b610-8aa6fa231249"
      },
      "source": [
        "n_words"
      ],
      "execution_count": null,
      "outputs": [
        {
          "output_type": "execute_result",
          "data": {
            "text/plain": [
              "49815"
            ]
          },
          "metadata": {
            "tags": []
          },
          "execution_count": 6
        }
      ]
    },
    {
      "cell_type": "code",
      "metadata": {
        "collapsed": true,
        "id": "rJdzjP6R9_ZK"
      },
      "source": [
        "data_y = np.expand_dims(data_y, -1) # It seems that Keras needs this for the \"one-cold\" and softmax dims to match"
      ],
      "execution_count": null,
      "outputs": []
    },
    {
      "cell_type": "markdown",
      "metadata": {
        "id": "pClJVQvGkdlG"
      },
      "source": [
        "# Tasks\n",
        "\n",
        "See below"
      ]
    },
    {
      "cell_type": "code",
      "metadata": {
        "colab": {
          "base_uri": "https://localhost:8080/"
        },
        "id": "dX849IU3xwvV",
        "outputId": "efd3136d-607e-4f16-d20b-1a6aa0b37e46"
      },
      "source": [
        "data_x.shape"
      ],
      "execution_count": null,
      "outputs": [
        {
          "output_type": "execute_result",
          "data": {
            "text/plain": [
              "(50, 14)"
            ]
          },
          "metadata": {
            "tags": []
          },
          "execution_count": 8
        }
      ]
    },
    {
      "cell_type": "code",
      "metadata": {
        "colab": {
          "base_uri": "https://localhost:8080/"
        },
        "id": "OzYy5pOQx2Z-",
        "outputId": "b1232e07-7fa3-43d2-ee8a-eaa6d3db6d2c"
      },
      "source": [
        "data_y.shape"
      ],
      "execution_count": null,
      "outputs": [
        {
          "output_type": "execute_result",
          "data": {
            "text/plain": [
              "(50, 14, 1)"
            ]
          },
          "metadata": {
            "tags": []
          },
          "execution_count": 9
        }
      ]
    },
    {
      "cell_type": "code",
      "metadata": {
        "collapsed": true,
        "id": "nHCa-l-QkdlH"
      },
      "source": [
        "# Network parameters\n",
        "\n",
        "lstm_size = 512\n",
        "embedding_size = 150\n"
      ],
      "execution_count": null,
      "outputs": []
    },
    {
      "cell_type": "markdown",
      "metadata": {
        "id": "GWPOCc6q9_Yn"
      },
      "source": [
        "### Network"
      ]
    },
    {
      "cell_type": "code",
      "metadata": {
        "colab": {
          "base_uri": "https://localhost:8080/"
        },
        "collapsed": true,
        "id": "FXth0CDm9_Yq",
        "outputId": "40b3203c-cce8-42ec-f691-4f99236406f4"
      },
      "source": [
        "# Import:\n",
        "# Import the appropriate layers from tf.keras!\n",
        "\n",
        "from tensorflow.keras import Model\n",
        "from tensorflow.keras.layers import Dense, LSTM, Input, Embedding\n",
        "from tensorflow.keras import backend as K\n",
        "from tensorflow.keras.optimizers import Adadelta, Adam, SGD\n",
        "from tensorflow.keras.losses import sparse_categorical_crossentropy\n",
        "# Think about it, that one layer should map (\"embed\") tha input into a dense vector!\n",
        "# Don't forget the main model class - according to functional or sequential API\n",
        "# And eventually the optimizer and backend\n",
        "# Later one for resetting the graph - good practice!\n",
        "# And think about it what loss function you will use. The output is a classification\n",
        "# (categorical) task, it is sparse, so...\n",
        "\n",
        "K.clear_session()\n",
        "\n",
        "# Please reset the graph here!\n",
        "\n",
        "# Model\n",
        "########\n",
        "# Build the model!\n",
        "# Start with the input layer, it receives a vector of the length of the maximal text span (sentence)\n",
        "# And: vector or not, shape is a tuple...\n",
        "\n",
        "input_layer = Input(shape=((max_input_length,)))\n",
        "\n",
        "# After this, use the \"mapping\" layer.\n",
        "# WARNING:\n",
        "# 1. width = number of words +1\n",
        "# 2. it's size is defined in a parameter, somewhere above\n",
        "# 3. length of input: max input size -1\n",
        "# 4. Zero values are to be masked in it!!! \n",
        "#    the constructor has a named argument which has to be given with the True value!!!\n",
        "#\n",
        "# TASK: Can you please verbally elaborate to the instructor, why the points above are true?\n",
        "\n",
        "embedding_layer = Embedding(n_words+1, output_dim=embedding_size, input_length=max_input_length-1, mask_zero=True)(input_layer)\n",
        "\n",
        "\n",
        "# In the next TWO layers there should be LSTM-s\n",
        "# For them being able to be stacked, they have to give back not only the predictions at sequence end\n",
        "# Somewhere there has to be a nice parameter for this... ;-)\n",
        "\n",
        "lstm_layer1 = LSTM(lstm_size,return_sequences=True)(embedding_layer)\n",
        "lstm_outputs, hidden_state, cell_state = LSTM(lstm_size, return_sequences=True, return_state= True)(lstm_layer1)\n",
        "\n",
        "output = Dense(n_words + 1, activation=\"softmax\")(lstm_outputs)\n",
        "\n",
        "# Important: for certain purposes (hint: search engine...) it's very useful to have the last\n",
        "# hidden state and cell state also included in the results, so for the 2nd LSTM please turn \n",
        "# on the return_state option. Be aware that thereby the 2nd LSTM cell will return three\n",
        "# tensors (the series of outputs, last hidden state, last cell state), and you will need only \n",
        "# the first of these as input for your next layer (as always, ask when in doubt)   \n",
        "\n",
        "# Finally project the output with a fully connected layer and a softmax.\n",
        "# What is it's width? (Help: If you have varbally elaborated well above, you already know.)\n",
        "\n",
        "\n",
        "# Finally, create a model instance!\n",
        "model = Model(inputs=input_layer, outputs=output)\n",
        "model.summary()\n"
      ],
      "execution_count": null,
      "outputs": [
        {
          "output_type": "stream",
          "text": [
            "Model: \"model\"\n",
            "_________________________________________________________________\n",
            "Layer (type)                 Output Shape              Param #   \n",
            "=================================================================\n",
            "input_1 (InputLayer)         [(None, 14)]              0         \n",
            "_________________________________________________________________\n",
            "embedding (Embedding)        (None, 14, 150)           7472400   \n",
            "_________________________________________________________________\n",
            "lstm (LSTM)                  (None, 14, 512)           1357824   \n",
            "_________________________________________________________________\n",
            "lstm_1 (LSTM)                [(None, 14, 512), (None,  2099200   \n",
            "_________________________________________________________________\n",
            "dense (Dense)                (None, 14, 49816)         25555608  \n",
            "=================================================================\n",
            "Total params: 36,485,032\n",
            "Trainable params: 36,485,032\n",
            "Non-trainable params: 0\n",
            "_________________________________________________________________\n"
          ],
          "name": "stdout"
        }
      ]
    },
    {
      "cell_type": "markdown",
      "metadata": {
        "id": "FKXuebno9_Y1"
      },
      "source": [
        "### Error, optimizer, compilation"
      ]
    },
    {
      "cell_type": "code",
      "metadata": {
        "collapsed": true,
        "id": "4Mob9-6s9_Y3"
      },
      "source": [
        "# Loss \n",
        "\n",
        "loss = \"sparse_categorical_crossentropy\" # Our output is not One-hot encoded. What do we use?\n",
        "\n",
        "# Optimizer\n",
        "optimizer = \"Adam\" # According to taste...\n",
        " \n",
        "# Compilation\n",
        "#############\n",
        "\n",
        "\n",
        "model.compile(loss=loss, optimizer=optimizer, metrics=[\"accuracy\"])"
      ],
      "execution_count": null,
      "outputs": []
    },
    {
      "cell_type": "markdown",
      "metadata": {
        "id": "WLLqU3c_9_Y8"
      },
      "source": [
        "### Training\n",
        "\n",
        "We generate the trainig data."
      ]
    },
    {
      "cell_type": "code",
      "metadata": {
        "collapsed": true,
        "id": "l3x0AYGdkdlK"
      },
      "source": [
        "data_y = np.expand_dims(data_y, -1) # It seems that Keras needs this for the \"one-cold\" and softmax dims to match"
      ],
      "execution_count": null,
      "outputs": []
    },
    {
      "cell_type": "markdown",
      "metadata": {
        "id": "NMPFHd-M9_ZX"
      },
      "source": [
        "And train!"
      ]
    },
    {
      "cell_type": "code",
      "metadata": {
        "colab": {
          "base_uri": "https://localhost:8080/"
        },
        "collapsed": true,
        "id": "EJboxaY_9_Zd",
        "outputId": "2ecf37f3-9343-43cf-bd92-76b03d409e85"
      },
      "source": [
        "# Fit a language model to the data!\n",
        "# Use 10% validation - not so important in case of language models.\n",
        "# Use default alidation split of Keras.\n",
        "# And try to guess a realistic batch size!\n",
        "\n",
        "\n",
        "history = model.fit(data_x,data_y,\n",
        "                    validation_split = 0.1,\n",
        "                    epochs=5, batch_size = 100,verbose=1)"
      ],
      "execution_count": null,
      "outputs": [
        {
          "output_type": "stream",
          "text": [
            "Epoch 1/5\n",
            "1/1 [==============================] - 0s 178ms/step - loss: 9.3735 - accuracy: 0.0584 - val_loss: 10.7646 - val_accuracy: 0.0571\n",
            "Epoch 2/5\n",
            "1/1 [==============================] - 0s 142ms/step - loss: 9.3290 - accuracy: 0.0584 - val_loss: 10.6886 - val_accuracy: 0.0571\n",
            "Epoch 3/5\n",
            "1/1 [==============================] - 0s 110ms/step - loss: 9.2148 - accuracy: 0.0584 - val_loss: 10.5197 - val_accuracy: 0.0571\n",
            "Epoch 4/5\n",
            "1/1 [==============================] - 0s 103ms/step - loss: 8.9705 - accuracy: 0.0584 - val_loss: 10.2540 - val_accuracy: 0.0571\n",
            "Epoch 5/5\n",
            "1/1 [==============================] - 0s 99ms/step - loss: 8.5772 - accuracy: 0.0584 - val_loss: 9.9005 - val_accuracy: 0.0571\n"
          ],
          "name": "stdout"
        }
      ]
    },
    {
      "cell_type": "markdown",
      "metadata": {
        "id": "nYQ_ysy-546U"
      },
      "source": [
        ""
      ]
    },
    {
      "cell_type": "markdown",
      "metadata": {
        "id": "Eao03t2U9gBy"
      },
      "source": [
        "## Demo 1: Predict next word"
      ]
    },
    {
      "cell_type": "code",
      "metadata": {
        "colab": {
          "base_uri": "https://localhost:8080/"
        },
        "collapsed": true,
        "id": "RM1WVrua9qaY",
        "scrolled": true,
        "outputId": "cd4be110-e729-4c57-bca6-40c5aafefb96"
      },
      "source": [
        "# Prediction\n",
        "############\n",
        "\n",
        "def str_to_input(s):\n",
        "    \"\"\"Convert a string to appropriate model input.\n",
        "    \"\"\"\n",
        "    words = [x.lower() for x in s.split()[:max_input_length]]\n",
        "    ids = [br.word_to_id_map[word] for word in words]\n",
        "    ids_array = np.asarray(ids)\n",
        "    length = min(max_input_length, len(ids_array))\n",
        "    result = np.zeros((1, max_input_length))\n",
        "    result[0, :length] = ids_array[:length]\n",
        "    return result, length\n",
        "    \n",
        "\n",
        "while True:\n",
        "    s = input(\"\\nEnter a few starting words of a sentence or <return> to stop: \")\n",
        "    if s == \"\":\n",
        "        break\n",
        "    else:\n",
        "        try:\n",
        "            x, length = str_to_input(s)\n",
        "            predictions = model.predict(x)\n",
        "            probs = predictions[0][length - 1]\n",
        "            most_probable = np.argmax(probs)\n",
        "            print(\"Predicted next word:\", br.id_to_word_map[most_probable])\n",
        "        except KeyError:\n",
        "            print(\"Unknown words -- please try again!\")\n"
      ],
      "execution_count": null,
      "outputs": [
        {
          "output_type": "stream",
          "text": [
            "\n",
            "Enter a few starting words of a sentence or <return> to stop: \n"
          ],
          "name": "stdout"
        }
      ]
    },
    {
      "cell_type": "markdown",
      "metadata": {
        "id": "L4AkEJxBzPfm"
      },
      "source": [
        "## Demo 2: Similarity of sentences\n",
        "\n",
        "First we define a function that generates the hidden state of the LSTM from an input sentence:"
      ]
    },
    {
      "cell_type": "code",
      "metadata": {
        "collapsed": true,
        "id": "thYtAla6gDbi"
      },
      "source": [
        "input_layer = model.get_layer(\"input_1\")\n",
        "lstm_2_layer = model.get_layer(\"lstm_1\")\n",
        "\n",
        "cell_state_fun = K.function([input_layer.input],[lstm_2_layer.output[2]])\n",
        "\n",
        "def get_embedding(x):\n",
        "    \"\"\"Return the final cell state associated with the input.\n",
        "       Returns the last cell state as a vector.\n",
        "    \"\"\"\n",
        "    return cell_state_fun([x])[0].flatten()"
      ],
      "execution_count": null,
      "outputs": []
    },
    {
      "cell_type": "markdown",
      "metadata": {
        "id": "Qwr-xf_vkdlM"
      },
      "source": [
        "Then we use the vectors for calculating the cosine distance between sentences."
      ]
    },
    {
      "cell_type": "code",
      "metadata": {
        "colab": {
          "base_uri": "https://localhost:8080/"
        },
        "collapsed": true,
        "id": "LKUgmCrG7Itw",
        "outputId": "dc861f99-b570-4a22-ccb6-c4c9953fb12f"
      },
      "source": [
        "def cos_sim(a, b):\n",
        "\treturn np.dot(a, b) / (np.linalg.norm(a) * np.linalg.norm(b))\n",
        "\n",
        "while True:\n",
        "    s1 = input(\"\\nEnter the first sentence or <return> to quit: \")\n",
        "    if s1 == \"\": break\n",
        "    s2 = input(\"\\nEnter the second sentence: \")\n",
        "    try:\n",
        "        x1, _ = str_to_input(s1)\n",
        "        x2, _ = str_to_input(s2)\n",
        "        e1 = get_embedding(x1)\n",
        "        e2 = get_embedding(x2)\n",
        "        print(\"The cosine similarity between the two sentences is\", cos_sim(e1, e2))\n",
        "    except KeyError:\n",
        "        print(\"Unknown words -- please try again!\")"
      ],
      "execution_count": null,
      "outputs": [
        {
          "output_type": "stream",
          "text": [
            "\n",
            "Enter the first sentence or <return> to quit: The tree has\n",
            "\n",
            "Enter the second sentence: It is always so green like in the spring\n",
            "The cosine similarity between the two sentences is 0.9759522\n",
            "\n",
            "Enter the first sentence or <return> to quit: \n"
          ],
          "name": "stdout"
        }
      ]
    },
    {
      "cell_type": "markdown",
      "metadata": {
        "id": "1-3W1oxZv4DI"
      },
      "source": [
        "## Demo 3: Mini search engine\n",
        "\n",
        "We use the library [Annoy](https://github.com/spotify/annoy) published by Spotify to create a vector space index of the Brown corpus from the LSTM's cell state. We assign a vector for each sentence, and then store it to be able to run nearest neighbor queries on it. With this we effectively created a **semantic search engine**.\n",
        "\n",
        "(There are multiple solutions for approximate nearest neighbor search a scale which are worth looking into, one of them is [FAISS](https://code.fb.com/data-infrastructure/faiss-a-library-for-efficient-similarity-search/) from Facebook Research.)"
      ]
    },
    {
      "cell_type": "code",
      "metadata": {
        "collapsed": true,
        "id": "MWp-rofueeS0"
      },
      "source": [
        "def brown_sent_to_input(ids):\n",
        "  ids_array = np.asarray(ids)\n",
        "  length = min(max_input_length, len(ids_array))\n",
        "  result = np.zeros((1, max_input_length))\n",
        "  result[0, :length] = ids_array[:length]\n",
        "  return result, length"
      ],
      "execution_count": null,
      "outputs": []
    },
    {
      "cell_type": "code",
      "metadata": {
        "collapsed": true,
        "id": "wda7o8ntfov1"
      },
      "source": [
        "sentlist = list(br.sentences())"
      ],
      "execution_count": null,
      "outputs": []
    },
    {
      "cell_type": "code",
      "metadata": {
        "colab": {
          "base_uri": "https://localhost:8080/"
        },
        "collapsed": true,
        "id": "eaAJ7Pz5i8Cp",
        "outputId": "66f0c659-503e-449d-e079-d6fa5d6fc328"
      },
      "source": [
        "!pip install annoy"
      ],
      "execution_count": null,
      "outputs": [
        {
          "output_type": "stream",
          "text": [
            "Collecting annoy\n",
            "  Downloading annoy-1.17.0.tar.gz (646 kB)\n",
            "\u001b[?25l\r\u001b[K     |▌                               | 10 kB 36.8 MB/s eta 0:00:01\r\u001b[K     |█                               | 20 kB 24.1 MB/s eta 0:00:01\r\u001b[K     |█▌                              | 30 kB 17.8 MB/s eta 0:00:01\r\u001b[K     |██                              | 40 kB 15.8 MB/s eta 0:00:01\r\u001b[K     |██▌                             | 51 kB 7.7 MB/s eta 0:00:01\r\u001b[K     |███                             | 61 kB 7.6 MB/s eta 0:00:01\r\u001b[K     |███▌                            | 71 kB 8.0 MB/s eta 0:00:01\r\u001b[K     |████                            | 81 kB 9.0 MB/s eta 0:00:01\r\u001b[K     |████▋                           | 92 kB 9.4 MB/s eta 0:00:01\r\u001b[K     |█████                           | 102 kB 7.4 MB/s eta 0:00:01\r\u001b[K     |█████▋                          | 112 kB 7.4 MB/s eta 0:00:01\r\u001b[K     |██████                          | 122 kB 7.4 MB/s eta 0:00:01\r\u001b[K     |██████▋                         | 133 kB 7.4 MB/s eta 0:00:01\r\u001b[K     |███████                         | 143 kB 7.4 MB/s eta 0:00:01\r\u001b[K     |███████▋                        | 153 kB 7.4 MB/s eta 0:00:01\r\u001b[K     |████████▏                       | 163 kB 7.4 MB/s eta 0:00:01\r\u001b[K     |████████▋                       | 174 kB 7.4 MB/s eta 0:00:01\r\u001b[K     |█████████▏                      | 184 kB 7.4 MB/s eta 0:00:01\r\u001b[K     |█████████▋                      | 194 kB 7.4 MB/s eta 0:00:01\r\u001b[K     |██████████▏                     | 204 kB 7.4 MB/s eta 0:00:01\r\u001b[K     |██████████▋                     | 215 kB 7.4 MB/s eta 0:00:01\r\u001b[K     |███████████▏                    | 225 kB 7.4 MB/s eta 0:00:01\r\u001b[K     |███████████▋                    | 235 kB 7.4 MB/s eta 0:00:01\r\u001b[K     |████████████▏                   | 245 kB 7.4 MB/s eta 0:00:01\r\u001b[K     |████████████▊                   | 256 kB 7.4 MB/s eta 0:00:01\r\u001b[K     |█████████████▏                  | 266 kB 7.4 MB/s eta 0:00:01\r\u001b[K     |█████████████▊                  | 276 kB 7.4 MB/s eta 0:00:01\r\u001b[K     |██████████████▏                 | 286 kB 7.4 MB/s eta 0:00:01\r\u001b[K     |██████████████▊                 | 296 kB 7.4 MB/s eta 0:00:01\r\u001b[K     |███████████████▏                | 307 kB 7.4 MB/s eta 0:00:01\r\u001b[K     |███████████████▊                | 317 kB 7.4 MB/s eta 0:00:01\r\u001b[K     |████████████████▎               | 327 kB 7.4 MB/s eta 0:00:01\r\u001b[K     |████████████████▊               | 337 kB 7.4 MB/s eta 0:00:01\r\u001b[K     |█████████████████▎              | 348 kB 7.4 MB/s eta 0:00:01\r\u001b[K     |█████████████████▊              | 358 kB 7.4 MB/s eta 0:00:01\r\u001b[K     |██████████████████▎             | 368 kB 7.4 MB/s eta 0:00:01\r\u001b[K     |██████████████████▊             | 378 kB 7.4 MB/s eta 0:00:01\r\u001b[K     |███████████████████▎            | 389 kB 7.4 MB/s eta 0:00:01\r\u001b[K     |███████████████████▊            | 399 kB 7.4 MB/s eta 0:00:01\r\u001b[K     |████████████████████▎           | 409 kB 7.4 MB/s eta 0:00:01\r\u001b[K     |████████████████████▉           | 419 kB 7.4 MB/s eta 0:00:01\r\u001b[K     |█████████████████████▎          | 430 kB 7.4 MB/s eta 0:00:01\r\u001b[K     |█████████████████████▉          | 440 kB 7.4 MB/s eta 0:00:01\r\u001b[K     |██████████████████████▎         | 450 kB 7.4 MB/s eta 0:00:01\r\u001b[K     |██████████████████████▉         | 460 kB 7.4 MB/s eta 0:00:01\r\u001b[K     |███████████████████████▎        | 471 kB 7.4 MB/s eta 0:00:01\r\u001b[K     |███████████████████████▉        | 481 kB 7.4 MB/s eta 0:00:01\r\u001b[K     |████████████████████████▍       | 491 kB 7.4 MB/s eta 0:00:01\r\u001b[K     |████████████████████████▉       | 501 kB 7.4 MB/s eta 0:00:01\r\u001b[K     |█████████████████████████▍      | 512 kB 7.4 MB/s eta 0:00:01\r\u001b[K     |█████████████████████████▉      | 522 kB 7.4 MB/s eta 0:00:01\r\u001b[K     |██████████████████████████▍     | 532 kB 7.4 MB/s eta 0:00:01\r\u001b[K     |██████████████████████████▉     | 542 kB 7.4 MB/s eta 0:00:01\r\u001b[K     |███████████████████████████▍    | 552 kB 7.4 MB/s eta 0:00:01\r\u001b[K     |███████████████████████████▉    | 563 kB 7.4 MB/s eta 0:00:01\r\u001b[K     |████████████████████████████▍   | 573 kB 7.4 MB/s eta 0:00:01\r\u001b[K     |█████████████████████████████   | 583 kB 7.4 MB/s eta 0:00:01\r\u001b[K     |█████████████████████████████▍  | 593 kB 7.4 MB/s eta 0:00:01\r\u001b[K     |██████████████████████████████  | 604 kB 7.4 MB/s eta 0:00:01\r\u001b[K     |██████████████████████████████▍ | 614 kB 7.4 MB/s eta 0:00:01\r\u001b[K     |███████████████████████████████ | 624 kB 7.4 MB/s eta 0:00:01\r\u001b[K     |███████████████████████████████▍| 634 kB 7.4 MB/s eta 0:00:01\r\u001b[K     |████████████████████████████████| 645 kB 7.4 MB/s eta 0:00:01\r\u001b[K     |████████████████████████████████| 646 kB 7.4 MB/s \n",
            "\u001b[?25hBuilding wheels for collected packages: annoy\n",
            "  Building wheel for annoy (setup.py) ... \u001b[?25l\u001b[?25hdone\n",
            "  Created wheel for annoy: filename=annoy-1.17.0-cp37-cp37m-linux_x86_64.whl size=394555 sha256=307ca5902770280fb53c53979413705c5368ed4aae5078d4905d34cdf18b5818\n",
            "  Stored in directory: /root/.cache/pip/wheels/4f/e8/1e/7cc9ebbfa87a3b9f8ba79408d4d31831d67eea918b679a4c07\n",
            "Successfully built annoy\n",
            "Installing collected packages: annoy\n",
            "Successfully installed annoy-1.17.0\n"
          ],
          "name": "stdout"
        }
      ]
    },
    {
      "cell_type": "code",
      "metadata": {
        "collapsed": true,
        "id": "o8SO85y_w8sX"
      },
      "source": [
        "INDEX_COVERAGE_PERCENT = 1.0 #How much of the corpus you want ot index? 1.0 means whole, 0.5 means half.\n",
        "NEAREST_NEIGHBOR_NUM = 5"
      ],
      "execution_count": null,
      "outputs": []
    },
    {
      "cell_type": "code",
      "metadata": {
        "colab": {
          "base_uri": "https://localhost:8080/"
        },
        "collapsed": true,
        "id": "UfwnfqYff6h8",
        "outputId": "6bd36177-69c8-4768-bf47-c5cb8886b9c3"
      },
      "source": [
        "from annoy import AnnoyIndex\n",
        "from tqdm import tqdm\n",
        "\n",
        "index = AnnoyIndex(512, metric=\"angular\")\n",
        "\n",
        "for i in tqdm(range(int(len(sentlist)*INDEX_COVERAGE_PERCENT))):\n",
        "  inputs,length = brown_sent_to_input(sentlist[i])\n",
        "  vector = get_embedding(inputs)\n",
        "  index.add_item(i,vector)\n",
        "\n",
        "print(\"Building index...\")\n",
        "index.build(100)\n",
        "print(\"Index done, ready to query!\")"
      ],
      "execution_count": null,
      "outputs": [
        {
          "output_type": "stream",
          "text": [
            "100%|██████████| 57340/57340 [10:34<00:00, 90.31it/s]\n"
          ],
          "name": "stderr"
        },
        {
          "output_type": "stream",
          "text": [
            "Building index...\n",
            "Index done, ready to query!\n"
          ],
          "name": "stdout"
        }
      ]
    },
    {
      "cell_type": "code",
      "metadata": {
        "collapsed": true,
        "id": "ex6AGjVrh6Sb"
      },
      "source": [
        "def print_brown_index(sentences, indices):\n",
        "  for i in indices:\n",
        "    word_ids_list = sentences[i]\n",
        "    for j in word_ids_list:\n",
        "      print(br.id_to_word_map[j]+\" \", end='')\n",
        "    print()\n",
        "\n",
        "    "
      ],
      "execution_count": null,
      "outputs": []
    },
    {
      "cell_type": "code",
      "metadata": {
        "colab": {
          "base_uri": "https://localhost:8080/"
        },
        "collapsed": true,
        "id": "V6y-1aVGi573",
        "scrolled": true,
        "outputId": "7ef43636-d2c6-4388-e735-37b8fe228d15"
      },
      "source": [
        "while True:\n",
        "  query = input(\"\\nEnter the query or <return> to quit: \")\n",
        "  if query == \"\": break\n",
        "  try:\n",
        "    in_ids, length = str_to_input(query)\n",
        "    in_vector = get_embedding(in_ids)\n",
        "    nearest_sentence_indices = index.get_nns_by_vector(in_vector, NEAREST_NEIGHBOR_NUM)\n",
        "    #print(\"nearest indices:\", nearest_sentence_indices)\n",
        "    print_brown_index(sentlist, nearest_sentence_indices)\n",
        "\n",
        "  except KeyError:\n",
        "    print(\"Unknown words -- please try again!\")"
      ],
      "execution_count": null,
      "outputs": [
        {
          "output_type": "stream",
          "text": [
            "\n",
            "Enter the query or <return> to quit: sky\n",
            "scenic effects \n",
            "substances : \n",
            "substances : \n",
            "substances : \n",
            "substances : \n",
            "\n",
            "Enter the query or <return> to quit: the sky is blue\n",
            "the structure is complete . \n",
            "he bogeyed the 10th . \n",
            "mcnamara is the scholar-businessman . \n",
            "that is the play . \n",
            "who is the owner ? ? \n",
            "\n",
            "Enter the query or <return> to quit: \n"
          ],
          "name": "stdout"
        }
      ]
    }
  ]
}